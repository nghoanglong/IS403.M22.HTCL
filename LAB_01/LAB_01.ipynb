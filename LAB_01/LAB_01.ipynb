{
  "nbformat": 4,
  "nbformat_minor": 0,
  "metadata": {
    "colab": {
      "name": "LAB-01.ipynb",
      "provenance": [],
      "collapsed_sections": [
        "sGw5_2Kjunuh",
        "h72xv6KOuZV_",
        "lnwN2FKtw96g",
        "JERIsi6wxkD_",
        "tm5IaQE7xv_7",
        "hcief0-Q2SpU",
        "ihBI12zr43zg",
        "VLcVWfQy-Rx4",
        "bFIYBpRRAg-F",
        "0_-wyfpcDS9i",
        "ugWps0FpdU7J",
        "xiCZbXTWJrto",
        "lIpQISSFKWeW",
        "rTAZ0O8N4QGw"
      ],
      "authorship_tag": "ABX9TyPfDoCu3iLQ0fpDgZixsyME",
      "include_colab_link": true
    },
    "kernelspec": {
      "name": "python3",
      "display_name": "Python 3"
    },
    "language_info": {
      "name": "python"
    }
  },
  "cells": [
    {
      "cell_type": "markdown",
      "metadata": {
        "id": "view-in-github",
        "colab_type": "text"
      },
      "source": [
        "<a href=\"https://colab.research.google.com/github/nghoanglong/IS403.M22.HTCL/blob/main/LAB_01/LAB_01.ipynb\" target=\"_parent\"><img src=\"https://colab.research.google.com/assets/colab-badge.svg\" alt=\"Open In Colab\"/></a>"
      ]
    },
    {
      "cell_type": "code",
      "source": [
        "from google.colab import drive\n",
        "drive.mount('/content/drive')"
      ],
      "metadata": {
        "colab": {
          "base_uri": "https://localhost:8080/"
        },
        "id": "MK14dYTapZLR",
        "outputId": "eee2940a-3bb0-41b2-fb3b-8132651afc92"
      },
      "execution_count": 1,
      "outputs": [
        {
          "output_type": "stream",
          "name": "stdout",
          "text": [
            "Mounted at /content/drive\n"
          ]
        }
      ]
    },
    {
      "cell_type": "code",
      "source": [
        "import numpy as np\n",
        "import math\n",
        "import pandas as pd\n",
        "import statistics as st\n",
        "import matplotlib.pyplot as plt"
      ],
      "metadata": {
        "id": "XyKhoUQmpiZK"
      },
      "execution_count": 2,
      "outputs": []
    },
    {
      "cell_type": "markdown",
      "source": [
        "# GDP Bình Quân VN - dataset"
      ],
      "metadata": {
        "id": "sGw5_2Kjunuh"
      }
    },
    {
      "cell_type": "markdown",
      "source": [
        "## Data Preprocessing"
      ],
      "metadata": {
        "id": "KuX4fXkJu0BC"
      }
    },
    {
      "cell_type": "code",
      "source": [
        "df = pd.read_excel('/content/drive/MyDrive/Datasets/Data Science Research/IS403/1. GDP binh quan cua VN.xlsx')"
      ],
      "metadata": {
        "id": "sDQH4BcxqDe7"
      },
      "execution_count": 4,
      "outputs": []
    },
    {
      "cell_type": "code",
      "source": [
        "df"
      ],
      "metadata": {
        "colab": {
          "base_uri": "https://localhost:8080/",
          "height": 346
        },
        "id": "M1tqYOA0vyCW",
        "outputId": "28de93f3-07e4-4a8b-e3cd-7c3b4bf3a4d4"
      },
      "execution_count": 5,
      "outputs": [
        {
          "output_type": "execute_result",
          "data": {
            "text/html": [
              "\n",
              "  <div id=\"df-1c9de6e3-7219-41c6-84dc-ba0354d3db0f\">\n",
              "    <div class=\"colab-df-container\">\n",
              "      <div>\n",
              "<style scoped>\n",
              "    .dataframe tbody tr th:only-of-type {\n",
              "        vertical-align: middle;\n",
              "    }\n",
              "\n",
              "    .dataframe tbody tr th {\n",
              "        vertical-align: top;\n",
              "    }\n",
              "\n",
              "    .dataframe thead th {\n",
              "        text-align: right;\n",
              "    }\n",
              "</style>\n",
              "<table border=\"1\" class=\"dataframe\">\n",
              "  <thead>\n",
              "    <tr style=\"text-align: right;\">\n",
              "      <th></th>\n",
              "      <th>GDP bình quân của VN qua các năm</th>\n",
              "      <th>Unnamed: 1</th>\n",
              "      <th>Unnamed: 2</th>\n",
              "      <th>Unnamed: 3</th>\n",
              "      <th>Unnamed: 4</th>\n",
              "      <th>Unnamed: 5</th>\n",
              "      <th>Unnamed: 6</th>\n",
              "      <th>Unnamed: 7</th>\n",
              "      <th>Unnamed: 8</th>\n",
              "      <th>Unnamed: 9</th>\n",
              "      <th>Unnamed: 10</th>\n",
              "      <th>Unnamed: 11</th>\n",
              "      <th>Unnamed: 12</th>\n",
              "      <th>Unnamed: 13</th>\n",
              "      <th>Unnamed: 14</th>\n",
              "      <th>Unnamed: 15</th>\n",
              "      <th>Unnamed: 16</th>\n",
              "      <th>Unnamed: 17</th>\n",
              "    </tr>\n",
              "  </thead>\n",
              "  <tbody>\n",
              "    <tr>\n",
              "      <th>0</th>\n",
              "      <td>NaN</td>\n",
              "      <td>NaN</td>\n",
              "      <td>NaN</td>\n",
              "      <td>NaN</td>\n",
              "      <td>NaN</td>\n",
              "      <td>NaN</td>\n",
              "      <td>NaN</td>\n",
              "      <td>NaN</td>\n",
              "      <td>NaN</td>\n",
              "      <td>NaN</td>\n",
              "      <td>NaN</td>\n",
              "      <td>NaN</td>\n",
              "      <td>NaN</td>\n",
              "      <td>NaN</td>\n",
              "      <td>NaN</td>\n",
              "      <td>NaN</td>\n",
              "      <td>NaN</td>\n",
              "      <td>NaN</td>\n",
              "    </tr>\n",
              "    <tr>\n",
              "      <th>1</th>\n",
              "      <td>Năm</td>\n",
              "      <td>2000.0</td>\n",
              "      <td>2001.0</td>\n",
              "      <td>2002.0</td>\n",
              "      <td>2003.0</td>\n",
              "      <td>2004.0</td>\n",
              "      <td>2005.0</td>\n",
              "      <td>2006.0</td>\n",
              "      <td>2007.0</td>\n",
              "      <td>2008.0</td>\n",
              "      <td>2009.0</td>\n",
              "      <td>2010.0</td>\n",
              "      <td>2011.0</td>\n",
              "      <td>2012.0</td>\n",
              "      <td>2013.0</td>\n",
              "      <td>2014.0</td>\n",
              "      <td>2015.0</td>\n",
              "      <td>2016.0</td>\n",
              "    </tr>\n",
              "    <tr>\n",
              "      <th>2</th>\n",
              "      <td>GDP (USD)</td>\n",
              "      <td>302.0</td>\n",
              "      <td>315.0</td>\n",
              "      <td>340.0</td>\n",
              "      <td>389.0</td>\n",
              "      <td>453.0</td>\n",
              "      <td>537.0</td>\n",
              "      <td>624.0</td>\n",
              "      <td>730.0</td>\n",
              "      <td>1065.0</td>\n",
              "      <td>1132.0</td>\n",
              "      <td>1234.0</td>\n",
              "      <td>1443.0</td>\n",
              "      <td>1655.0</td>\n",
              "      <td>1811.0</td>\n",
              "      <td>1916.0</td>\n",
              "      <td>2109.0</td>\n",
              "      <td>2215.0</td>\n",
              "    </tr>\n",
              "  </tbody>\n",
              "</table>\n",
              "</div>\n",
              "      <button class=\"colab-df-convert\" onclick=\"convertToInteractive('df-1c9de6e3-7219-41c6-84dc-ba0354d3db0f')\"\n",
              "              title=\"Convert this dataframe to an interactive table.\"\n",
              "              style=\"display:none;\">\n",
              "        \n",
              "  <svg xmlns=\"http://www.w3.org/2000/svg\" height=\"24px\"viewBox=\"0 0 24 24\"\n",
              "       width=\"24px\">\n",
              "    <path d=\"M0 0h24v24H0V0z\" fill=\"none\"/>\n",
              "    <path d=\"M18.56 5.44l.94 2.06.94-2.06 2.06-.94-2.06-.94-.94-2.06-.94 2.06-2.06.94zm-11 1L8.5 8.5l.94-2.06 2.06-.94-2.06-.94L8.5 2.5l-.94 2.06-2.06.94zm10 10l.94 2.06.94-2.06 2.06-.94-2.06-.94-.94-2.06-.94 2.06-2.06.94z\"/><path d=\"M17.41 7.96l-1.37-1.37c-.4-.4-.92-.59-1.43-.59-.52 0-1.04.2-1.43.59L10.3 9.45l-7.72 7.72c-.78.78-.78 2.05 0 2.83L4 21.41c.39.39.9.59 1.41.59.51 0 1.02-.2 1.41-.59l7.78-7.78 2.81-2.81c.8-.78.8-2.07 0-2.86zM5.41 20L4 18.59l7.72-7.72 1.47 1.35L5.41 20z\"/>\n",
              "  </svg>\n",
              "      </button>\n",
              "      \n",
              "  <style>\n",
              "    .colab-df-container {\n",
              "      display:flex;\n",
              "      flex-wrap:wrap;\n",
              "      gap: 12px;\n",
              "    }\n",
              "\n",
              "    .colab-df-convert {\n",
              "      background-color: #E8F0FE;\n",
              "      border: none;\n",
              "      border-radius: 50%;\n",
              "      cursor: pointer;\n",
              "      display: none;\n",
              "      fill: #1967D2;\n",
              "      height: 32px;\n",
              "      padding: 0 0 0 0;\n",
              "      width: 32px;\n",
              "    }\n",
              "\n",
              "    .colab-df-convert:hover {\n",
              "      background-color: #E2EBFA;\n",
              "      box-shadow: 0px 1px 2px rgba(60, 64, 67, 0.3), 0px 1px 3px 1px rgba(60, 64, 67, 0.15);\n",
              "      fill: #174EA6;\n",
              "    }\n",
              "\n",
              "    [theme=dark] .colab-df-convert {\n",
              "      background-color: #3B4455;\n",
              "      fill: #D2E3FC;\n",
              "    }\n",
              "\n",
              "    [theme=dark] .colab-df-convert:hover {\n",
              "      background-color: #434B5C;\n",
              "      box-shadow: 0px 1px 3px 1px rgba(0, 0, 0, 0.15);\n",
              "      filter: drop-shadow(0px 1px 2px rgba(0, 0, 0, 0.3));\n",
              "      fill: #FFFFFF;\n",
              "    }\n",
              "  </style>\n",
              "\n",
              "      <script>\n",
              "        const buttonEl =\n",
              "          document.querySelector('#df-1c9de6e3-7219-41c6-84dc-ba0354d3db0f button.colab-df-convert');\n",
              "        buttonEl.style.display =\n",
              "          google.colab.kernel.accessAllowed ? 'block' : 'none';\n",
              "\n",
              "        async function convertToInteractive(key) {\n",
              "          const element = document.querySelector('#df-1c9de6e3-7219-41c6-84dc-ba0354d3db0f');\n",
              "          const dataTable =\n",
              "            await google.colab.kernel.invokeFunction('convertToInteractive',\n",
              "                                                     [key], {});\n",
              "          if (!dataTable) return;\n",
              "\n",
              "          const docLinkHtml = 'Like what you see? Visit the ' +\n",
              "            '<a target=\"_blank\" href=https://colab.research.google.com/notebooks/data_table.ipynb>data table notebook</a>'\n",
              "            + ' to learn more about interactive tables.';\n",
              "          element.innerHTML = '';\n",
              "          dataTable['output_type'] = 'display_data';\n",
              "          await google.colab.output.renderOutput(dataTable, element);\n",
              "          const docLink = document.createElement('div');\n",
              "          docLink.innerHTML = docLinkHtml;\n",
              "          element.appendChild(docLink);\n",
              "        }\n",
              "      </script>\n",
              "    </div>\n",
              "  </div>\n",
              "  "
            ],
            "text/plain": [
              "  GDP bình quân của VN qua các năm   Unnamed: 1  Unnamed: 2  Unnamed: 3  \\\n",
              "0                               NaN         NaN         NaN         NaN   \n",
              "1                               Năm      2000.0      2001.0      2002.0   \n",
              "2                         GDP (USD)       302.0       315.0       340.0   \n",
              "\n",
              "   Unnamed: 4  Unnamed: 5  Unnamed: 6  Unnamed: 7  Unnamed: 8  Unnamed: 9  \\\n",
              "0         NaN         NaN         NaN         NaN         NaN         NaN   \n",
              "1      2003.0      2004.0      2005.0      2006.0      2007.0      2008.0   \n",
              "2       389.0       453.0       537.0       624.0       730.0      1065.0   \n",
              "\n",
              "   Unnamed: 10  Unnamed: 11  Unnamed: 12  Unnamed: 13  Unnamed: 14  \\\n",
              "0          NaN          NaN          NaN          NaN          NaN   \n",
              "1       2009.0       2010.0       2011.0       2012.0       2013.0   \n",
              "2       1132.0       1234.0       1443.0       1655.0       1811.0   \n",
              "\n",
              "   Unnamed: 15  Unnamed: 16  Unnamed: 17  \n",
              "0          NaN          NaN          NaN  \n",
              "1       2014.0       2015.0       2016.0  \n",
              "2       1916.0       2109.0       2215.0  "
            ]
          },
          "metadata": {},
          "execution_count": 5
        }
      ]
    },
    {
      "cell_type": "code",
      "source": [
        "year = df.iloc[1, 1:].to_list()\n",
        "gdp = df.iloc[2, 1:].to_list()"
      ],
      "metadata": {
        "id": "lI4_Xc3hvGLY"
      },
      "execution_count": 6,
      "outputs": []
    },
    {
      "cell_type": "code",
      "source": [
        "# visualize boxplot\n",
        "fig, ax = plt.subplots()\n",
        "ax.boxplot(gdp)\n",
        "plt.xticks([1], [\"GDP bình quân của VN\"])\n",
        "plt.show()"
      ],
      "metadata": {
        "colab": {
          "base_uri": "https://localhost:8080/",
          "height": 266
        },
        "id": "CkVeWmrwMm9s",
        "outputId": "d582b433-7c6d-49c7-806f-cfb921264f4a"
      },
      "execution_count": null,
      "outputs": [
        {
          "output_type": "display_data",
          "data": {
            "image/png": "[encoded data removed]",
            "text/plain": [
              "<Figure size 432x288 with 1 Axes>"
            ]
          },
          "metadata": {
            "needs_background": "light"
          }
        }
      ]
    },
    {
      "cell_type": "code",
      "source": [
        "# visualize histogram\n",
        "plt.hist(gdp)\n",
        "plt.ylabel('Frequency')\n",
        "plt.xlabel('GDP bình quân của VN')\n",
        "plt.show()"
      ],
      "metadata": {
        "colab": {
          "base_uri": "https://localhost:8080/",
          "height": 280
        },
        "id": "AWKLpqnLpZRX",
        "outputId": "dff083e5-4a7f-4748-a087-c7f880a2074e"
      },
      "execution_count": null,
      "outputs": [
        {
          "output_type": "display_data",
          "data": {
            "image/png": "[encoded data removed]",
            "text/plain": [
              "<Figure size 432x288 with 1 Axes>"
            ]
          },
          "metadata": {
            "needs_background": "light"
          }
        }
      ]
    },
    {
      "cell_type": "markdown",
      "source": [
        "## Count\n",
        "Sử dụng để đếm số lượng điểm dữ liệu hiện có trong bộ dữ liệu"
      ],
      "metadata": {
        "id": "h72xv6KOuZV_"
      }
    },
    {
      "cell_type": "code",
      "source": [
        "print('len year = {0}'.format(len(year)))\n",
        "print('len gdp = {0}'.format(len(gdp)))"
      ],
      "metadata": {
        "colab": {
          "base_uri": "https://localhost:8080/"
        },
        "id": "hfz7SA2fvBcn",
        "outputId": "f6e47054-3896-4546-b5e4-11c9e96c3ae2"
      },
      "execution_count": null,
      "outputs": [
        {
          "output_type": "stream",
          "name": "stdout",
          "text": [
            "len year = 17\n",
            "len gdp = 17\n"
          ]
        }
      ]
    },
    {
      "cell_type": "markdown",
      "source": [
        "## Min\n",
        "Cho ta biết được điểm dữ liệu mang giá trị nhỏ nhất trong toàn bộ dữ liệu"
      ],
      "metadata": {
        "id": "lnwN2FKtw96g"
      }
    },
    {
      "cell_type": "code",
      "source": [
        "print('min year = {0}'.format(min(year)))\n",
        "print('min gdp = {0}'.format(min(gdp)))"
      ],
      "metadata": {
        "colab": {
          "base_uri": "https://localhost:8080/"
        },
        "id": "fv-p8cAXxAHv",
        "outputId": "4c4313ef-62ae-4bfd-b000-f0907e44205c"
      },
      "execution_count": null,
      "outputs": [
        {
          "output_type": "stream",
          "name": "stdout",
          "text": [
            "min year = 2000.0\n",
            "min gdp = 302.0\n"
          ]
        }
      ]
    },
    {
      "cell_type": "markdown",
      "source": [
        "## Max\n",
        "Cho ta biết được điểm dữ liệu mang giá trị lớn nhất trong toàn bộ dữ liệu"
      ],
      "metadata": {
        "id": "JERIsi6wxkD_"
      }
    },
    {
      "cell_type": "code",
      "source": [
        "print('max year = {0}'.format(max(year)))\n",
        "print('max gdp = {0}'.format(max(gdp)))"
      ],
      "metadata": {
        "colab": {
          "base_uri": "https://localhost:8080/"
        },
        "id": "AWjki4ByxqcS",
        "outputId": "f0a8692c-168b-46c3-dc07-652cf0a6c775"
      },
      "execution_count": null,
      "outputs": [
        {
          "output_type": "stream",
          "name": "stdout",
          "text": [
            "max year = 2016.0\n",
            "max gdp = 2215.0\n"
          ]
        }
      ]
    },
    {
      "cell_type": "markdown",
      "source": [
        "## Mean\n",
        "Cho ta biết được giá trị trung bình của một tập hợp số"
      ],
      "metadata": {
        "id": "tm5IaQE7xv_7"
      }
    },
    {
      "cell_type": "code",
      "source": [
        "def mean_func(li_nums):\n",
        "   return sum(li_nums) / len(li_nums)"
      ],
      "metadata": {
        "id": "Bml0SlPixyOu"
      },
      "execution_count": null,
      "outputs": []
    },
    {
      "cell_type": "code",
      "source": [
        "print('mean year = {0}'.format(mean_func(year)))\n",
        "print('mean gdp = {0}'.format(mean_func(gdp)))"
      ],
      "metadata": {
        "colab": {
          "base_uri": "https://localhost:8080/"
        },
        "id": "y3P7YdrJ2H0E",
        "outputId": "0a0b2779-9a6e-4450-8747-ba85074ad976"
      },
      "execution_count": null,
      "outputs": [
        {
          "output_type": "stream",
          "name": "stdout",
          "text": [
            "mean year = 2008.0\n",
            "mean gdp = 1074.7058823529412\n"
          ]
        }
      ]
    },
    {
      "cell_type": "markdown",
      "source": [
        "## Median\n",
        "Trung vị là số nằm giữa một tập dữ liệu số đã được sắp xếp, có cùng số lượng điểm dữ liệu bên dưới và bên trên. Nó được sử dụng thay cho giá trị trung bình khi có các điểm ngoại lai trong bộ dữ liệu"
      ],
      "metadata": {
        "id": "hcief0-Q2SpU"
      }
    },
    {
      "cell_type": "code",
      "source": [
        "def median_func(li_nums):\n",
        "   len_nums = len(li_nums)\n",
        "   li_sorted = sorted(li_nums)\n",
        "   mid_point = len_nums // 2\n",
        "   if len_nums % 2 == 0:\n",
        "      num_l = li_sorted[mid_point - 1]\n",
        "      num_r = li_sorted[mid_point]\n",
        "      return (num_l + num_r) / 2\n",
        "   return li_sorted[mid_point]"
      ],
      "metadata": {
        "id": "xDleeVYa2WMm"
      },
      "execution_count": null,
      "outputs": []
    },
    {
      "cell_type": "code",
      "source": [
        "print('median year = {0}'.format(median_func(year)))\n",
        "print('median gdp = {0}'.format(median_func(gdp)))"
      ],
      "metadata": {
        "colab": {
          "base_uri": "https://localhost:8080/"
        },
        "id": "EwmwdcV04j2Q",
        "outputId": "b87d1a45-c1d4-457e-9f16-541a5d6b2a4e"
      },
      "execution_count": null,
      "outputs": [
        {
          "output_type": "stream",
          "name": "stdout",
          "text": [
            "median year = 2008.0\n",
            "median gdp = 1065.0\n"
          ]
        }
      ]
    },
    {
      "cell_type": "markdown",
      "source": [
        "## Mode\n",
        "Là điểm dữ liệu có tần suất xuất hiện nhiều nhất trong tập dữ liệu"
      ],
      "metadata": {
        "id": "ihBI12zr43zg"
      }
    },
    {
      "cell_type": "code",
      "source": [
        "def mode_func(li_nums):\n",
        "   max_appearance = 0\n",
        "   h_map = {}\n",
        "   li_res = set()\n",
        "   for num in li_nums:\n",
        "      if num not in h_map:\n",
        "        h_map[num] = 1\n",
        "      else:\n",
        "        h_map[num] += 1\n",
        "      max_appearance = max(max_appearance, h_map[num])\n",
        "\n",
        "   for key, value in h_map.items():\n",
        "      if value == max_appearance:\n",
        "        li_res.add(key)\n",
        "   if len(li_res) == len(li_nums) or len(li_res) >= 2:\n",
        "      return \"N/A\"\n",
        "   return li_res"
      ],
      "metadata": {
        "id": "s7sny2mJ4_QC"
      },
      "execution_count": 7,
      "outputs": []
    },
    {
      "cell_type": "code",
      "source": [
        "print('mode year = {0}'.format(mode_func(year)))\n",
        "print('mode gdp = {0}'.format(mode_func(gdp)))"
      ],
      "metadata": {
        "colab": {
          "base_uri": "https://localhost:8080/"
        },
        "id": "MjuO-H4z9-Ht",
        "outputId": "1e3aac38-cf95-40d2-9d3a-60eda1ea6538"
      },
      "execution_count": 10,
      "outputs": [
        {
          "output_type": "stream",
          "name": "stdout",
          "text": [
            "mode year = N/A\n",
            "mode gdp = N/A\n"
          ]
        }
      ]
    },
    {
      "cell_type": "markdown",
      "source": [
        "## Quantitle\n",
        "Là dạng tổng quát của Median, Quantitle là những điểm cắt (cut points) chia tập dữ liệu thành p phần có số phần tử bằng nhau"
      ],
      "metadata": {
        "id": "VLcVWfQy-Rx4"
      }
    },
    {
      "cell_type": "code",
      "source": [
        "def quantile_func(li_nums, p):\n",
        "   p_index = int(p * len(li_nums))\n",
        "   return sorted(li_nums)[p_index]"
      ],
      "metadata": {
        "id": "ikPAyv3Z_ttH"
      },
      "execution_count": null,
      "outputs": []
    },
    {
      "cell_type": "code",
      "source": [
        "print('quantile year = {0}'.format(quantile_func(year, 0.2)))\n",
        "print('quantile gdp = {0}'.format(quantile_func(gdp, 0.2)))"
      ],
      "metadata": {
        "colab": {
          "base_uri": "https://localhost:8080/"
        },
        "id": "Ug-c3Rb5_7JP",
        "outputId": "bb3ee3a6-b241-471c-d94f-2db911339041"
      },
      "execution_count": null,
      "outputs": [
        {
          "output_type": "stream",
          "name": "stdout",
          "text": [
            "quantile year = 2003.0\n",
            "quantile gdp = 389.0\n"
          ]
        }
      ]
    },
    {
      "cell_type": "markdown",
      "source": [
        "## Range\n",
        "Khoảng biến thiên của tập dữ liệu"
      ],
      "metadata": {
        "id": "bFIYBpRRAg-F"
      }
    },
    {
      "cell_type": "code",
      "source": [
        "print('range year = {0}'.format(max(year) - min(year)))\n",
        "print('range gdp = {0}'.format(max(gdp) - min(gdp)))"
      ],
      "metadata": {
        "colab": {
          "base_uri": "https://localhost:8080/"
        },
        "id": "2AWxKDcbBGwX",
        "outputId": "2a2debd3-1122-4551-e855-0a6f03a2040f"
      },
      "execution_count": null,
      "outputs": [
        {
          "output_type": "stream",
          "name": "stdout",
          "text": [
            "range year = 16.0\n",
            "range gdp = 1913.0\n"
          ]
        }
      ]
    },
    {
      "cell_type": "markdown",
      "source": [
        "## Variance\n",
        "Dùng để đo sự phân tán dữ liệu"
      ],
      "metadata": {
        "id": "0_-wyfpcDS9i"
      }
    },
    {
      "cell_type": "code",
      "source": [
        "def variance_func(li_nums):\n",
        "   n = len(li_nums)\n",
        "   mean = sum(li_nums) / n\n",
        "   deviations = [(value - mean)**2 for value in li_nums]\n",
        "\n",
        "   return sum(deviations) / (n - 1)"
      ],
      "metadata": {
        "id": "JtiPT2CXD0ML"
      },
      "execution_count": null,
      "outputs": []
    },
    {
      "cell_type": "code",
      "source": [
        "print('variance year = {0}'.format(variance_func(year)))\n",
        "print('variance gdp = {0}'.format(variance_func(gdp)))"
      ],
      "metadata": {
        "colab": {
          "base_uri": "https://localhost:8080/"
        },
        "id": "dkHTM_2jcvly",
        "outputId": "871741b0-16fe-4c4a-f1b5-c50c24f0d715"
      },
      "execution_count": null,
      "outputs": [
        {
          "output_type": "stream",
          "name": "stdout",
          "text": [
            "variance year = 25.5\n",
            "variance gdp = 456430.5955882353\n"
          ]
        }
      ]
    },
    {
      "cell_type": "markdown",
      "source": [
        "## Standard Deviation"
      ],
      "metadata": {
        "id": "ugWps0FpdU7J"
      }
    },
    {
      "cell_type": "code",
      "source": [
        "def std_func(li_nums):\n",
        "   n = len(li_nums)\n",
        "   mean = sum(li_nums) / n\n",
        "   deviations = [(value - mean)**2 for value in li_nums]\n",
        "\n",
        "   variance = sum(deviations) / (n - 1)\n",
        "   return math.sqrt(variance)"
      ],
      "metadata": {
        "id": "dcRVc7KfiuiW"
      },
      "execution_count": null,
      "outputs": []
    },
    {
      "cell_type": "code",
      "source": [
        "print('standard deviation of year = {0}'.format(std_func(year)))\n",
        "print('standard deviation of gdp = {0}'.format(std_func(gdp)))"
      ],
      "metadata": {
        "colab": {
          "base_uri": "https://localhost:8080/"
        },
        "id": "hNPykt1QdZrM",
        "outputId": "e6c283bd-d30c-4ff8-f447-92f4e668f622"
      },
      "execution_count": null,
      "outputs": [
        {
          "output_type": "stream",
          "name": "stdout",
          "text": [
            "standard deviation of year = 5.049752469181039\n",
            "standard deviation of gdp = 675.5964739311738\n"
          ]
        }
      ]
    },
    {
      "cell_type": "markdown",
      "source": [
        "## Coefficient of Variation"
      ],
      "metadata": {
        "id": "xiCZbXTWJrto"
      }
    },
    {
      "cell_type": "code",
      "source": [
        "def cv_func(li_nums):\n",
        "   n = len(li_nums)\n",
        "   mean = sum(li_nums) / n\n",
        "   deviations = [(value - mean)**2 for value in li_nums]\n",
        "\n",
        "   variance = sum(deviations) / (n - 1)\n",
        "   standard_variation = math.sqrt(variance)\n",
        "   return standard_variation / mean"
      ],
      "metadata": {
        "id": "yFc3dkYwjm4D"
      },
      "execution_count": null,
      "outputs": []
    },
    {
      "cell_type": "code",
      "source": [
        "print('coefficient of variation - year = {0}'.format(cv_func(year)))\n",
        "print('coefficient of variation - gdp = {0}'.format(cv_func(gdp)))"
      ],
      "metadata": {
        "colab": {
          "base_uri": "https://localhost:8080/"
        },
        "id": "lGG7T8ytKQAd",
        "outputId": "9c721af5-10ac-4f6d-e83e-052c0854c7c1"
      },
      "execution_count": null,
      "outputs": [
        {
          "output_type": "stream",
          "name": "stdout",
          "text": [
            "coefficient of variation - year = 0.0025148169667236248\n",
            "coefficient of variation - gdp = 0.6286338290547321\n"
          ]
        }
      ]
    },
    {
      "cell_type": "markdown",
      "source": [
        "## Skewness"
      ],
      "metadata": {
        "id": "lIpQISSFKWeW"
      }
    },
    {
      "cell_type": "code",
      "source": [
        "from scipy.stats import skew"
      ],
      "metadata": {
        "id": "pQZ8NaArkTjZ"
      },
      "execution_count": null,
      "outputs": []
    },
    {
      "cell_type": "code",
      "source": [
        "print('skew year = {0}'.format(skew(year)))\n",
        "print('skew gdp = {0}'.format(skew(gdp)))"
      ],
      "metadata": {
        "colab": {
          "base_uri": "https://localhost:8080/"
        },
        "id": "na87n0ZzKZcR",
        "outputId": "91a8770e-2fae-4c53-e6ed-e3a7056c2782"
      },
      "execution_count": null,
      "outputs": [
        {
          "output_type": "stream",
          "name": "stdout",
          "text": [
            "skew year = 0.0\n",
            "skew gdp = 0.3522907816440924\n"
          ]
        }
      ]
    },
    {
      "cell_type": "markdown",
      "source": [
        "## Kurtosis"
      ],
      "metadata": {
        "id": "ZkEmIVpyK9PI"
      }
    },
    {
      "cell_type": "code",
      "source": [
        "from scipy.stats import kurtosis"
      ],
      "metadata": {
        "id": "F4M_7NC1kZQI"
      },
      "execution_count": null,
      "outputs": []
    },
    {
      "cell_type": "code",
      "source": [
        "print('kurtosis year = {0}'.format(kurtosis(year)))\n",
        "print('kurtosis gdp = {0}'.format(kurtosis(gdp)))"
      ],
      "metadata": {
        "colab": {
          "base_uri": "https://localhost:8080/"
        },
        "id": "PWo2wsNaLCLr",
        "outputId": "dbfb30a2-b87c-44b7-83ca-870566f85e06"
      },
      "execution_count": null,
      "outputs": [
        {
          "output_type": "stream",
          "name": "stdout",
          "text": [
            "kurtosis year = -1.2083333333333333\n",
            "kurtosis gdp = -1.325623980881038\n"
          ]
        }
      ]
    },
    {
      "cell_type": "markdown",
      "source": [
        "# Purchase Orders - Dataset"
      ],
      "metadata": {
        "id": "rTAZ0O8N4QGw"
      }
    },
    {
      "cell_type": "markdown",
      "source": [
        "## Data Preprocessing"
      ],
      "metadata": {
        "id": "8lkPXgUj_Uld"
      }
    },
    {
      "cell_type": "code",
      "source": [
        "df_po = pd.read_excel('/content/drive/MyDrive/Datasets/Data Science Research/IS403/2. Purchase Orders.xlsx')"
      ],
      "metadata": {
        "id": "CBnMnTYn4Ug9",
        "colab": {
          "base_uri": "https://localhost:8080/"
        },
        "outputId": "df0a6a97-6fc2-4c88-8eba-3151268285a1"
      },
      "execution_count": 19,
      "outputs": [
        {
          "output_type": "stream",
          "name": "stderr",
          "text": [
            "/usr/local/lib/python3.7/dist-packages/openpyxl/worksheet/_reader.py:312: UserWarning: Unknown extension is not supported and will be removed\n",
            "  warn(msg)\n"
          ]
        }
      ]
    },
    {
      "cell_type": "code",
      "source": [
        "df_po.columns = df_po.iloc[1]\n",
        "df_po = df_po[2:]"
      ],
      "metadata": {
        "id": "93TsgH9k9OB-"
      },
      "execution_count": 20,
      "outputs": []
    },
    {
      "cell_type": "code",
      "source": [
        "df_po.reset_index(inplace=True)\n",
        "df_po = df_po.iloc[:, 1:]"
      ],
      "metadata": {
        "id": "DepvQXua9tvp"
      },
      "execution_count": 21,
      "outputs": []
    },
    {
      "cell_type": "code",
      "source": [
        "df_po"
      ],
      "metadata": {
        "colab": {
          "base_uri": "https://localhost:8080/",
          "height": 467
        },
        "id": "_RP12VXG-_pw",
        "outputId": "b28cfe05-8d5c-4537-a838-6044519e5ac5"
      },
      "execution_count": null,
      "outputs": [
        {
          "output_type": "execute_result",
          "data": {
            "text/html": [
              "\n",
              "  <div id=\"df-00a1c8c1-6d25-48ce-9279-3cf032d05735\">\n",
              "    <div class=\"colab-df-container\">\n",
              "      <div>\n",
              "<style scoped>\n",
              "    .dataframe tbody tr th:only-of-type {\n",
              "        vertical-align: middle;\n",
              "    }\n",
              "\n",
              "    .dataframe tbody tr th {\n",
              "        vertical-align: top;\n",
              "    }\n",
              "\n",
              "    .dataframe thead th {\n",
              "        text-align: right;\n",
              "    }\n",
              "</style>\n",
              "<table border=\"1\" class=\"dataframe\">\n",
              "  <thead>\n",
              "    <tr style=\"text-align: right;\">\n",
              "      <th>1</th>\n",
              "      <th>Supplier</th>\n",
              "      <th>Order No.</th>\n",
              "      <th>Item No.</th>\n",
              "      <th>Item Description</th>\n",
              "      <th>Item Cost</th>\n",
              "      <th>Quantity</th>\n",
              "      <th>Cost per order</th>\n",
              "      <th>A/P Terms (Months)</th>\n",
              "      <th>Order Date</th>\n",
              "      <th>Arrival Date</th>\n",
              "    </tr>\n",
              "  </thead>\n",
              "  <tbody>\n",
              "    <tr>\n",
              "      <th>0</th>\n",
              "      <td>Alum Sheeting</td>\n",
              "      <td>A0223</td>\n",
              "      <td>4224</td>\n",
              "      <td>Bolt-nut package</td>\n",
              "      <td>3.95</td>\n",
              "      <td>4500</td>\n",
              "      <td>17775</td>\n",
              "      <td>30</td>\n",
              "      <td>2011-10-15 00:00:00</td>\n",
              "      <td>2011-10-20 00:00:00</td>\n",
              "    </tr>\n",
              "    <tr>\n",
              "      <th>1</th>\n",
              "      <td>Alum Sheeting</td>\n",
              "      <td>A0433</td>\n",
              "      <td>5417</td>\n",
              "      <td>Control Panel</td>\n",
              "      <td>255</td>\n",
              "      <td>500</td>\n",
              "      <td>127500</td>\n",
              "      <td>30</td>\n",
              "      <td>2011-10-20 00:00:00</td>\n",
              "      <td>2011-10-27 00:00:00</td>\n",
              "    </tr>\n",
              "    <tr>\n",
              "      <th>2</th>\n",
              "      <td>Alum Sheeting</td>\n",
              "      <td>A0443</td>\n",
              "      <td>1243</td>\n",
              "      <td>Airframe fasteners</td>\n",
              "      <td>4.25</td>\n",
              "      <td>10000</td>\n",
              "      <td>42500</td>\n",
              "      <td>30</td>\n",
              "      <td>2011-08-08 00:00:00</td>\n",
              "      <td>2011-08-14 00:00:00</td>\n",
              "    </tr>\n",
              "    <tr>\n",
              "      <th>3</th>\n",
              "      <td>Alum Sheeting</td>\n",
              "      <td>A0446</td>\n",
              "      <td>5417</td>\n",
              "      <td>Control Panel</td>\n",
              "      <td>255</td>\n",
              "      <td>406</td>\n",
              "      <td>103530</td>\n",
              "      <td>30</td>\n",
              "      <td>2011-09-01 00:00:00</td>\n",
              "      <td>2011-09-10 00:00:00</td>\n",
              "    </tr>\n",
              "    <tr>\n",
              "      <th>4</th>\n",
              "      <td>Alum Sheeting</td>\n",
              "      <td>B0247</td>\n",
              "      <td>1243</td>\n",
              "      <td>Airframe fasteners</td>\n",
              "      <td>4.25</td>\n",
              "      <td>9000</td>\n",
              "      <td>38250</td>\n",
              "      <td>30</td>\n",
              "      <td>2011-09-05 00:00:00</td>\n",
              "      <td>2011-09-12 00:00:00</td>\n",
              "    </tr>\n",
              "    <tr>\n",
              "      <th>...</th>\n",
              "      <td>...</td>\n",
              "      <td>...</td>\n",
              "      <td>...</td>\n",
              "      <td>...</td>\n",
              "      <td>...</td>\n",
              "      <td>...</td>\n",
              "      <td>...</td>\n",
              "      <td>...</td>\n",
              "      <td>...</td>\n",
              "      <td>...</td>\n",
              "    </tr>\n",
              "    <tr>\n",
              "      <th>89</th>\n",
              "      <td>Steelpin Inc.</td>\n",
              "      <td>B3222</td>\n",
              "      <td>8008</td>\n",
              "      <td>Machined Valve</td>\n",
              "      <td>645</td>\n",
              "      <td>150</td>\n",
              "      <td>96750</td>\n",
              "      <td>30</td>\n",
              "      <td>2011-10-15 00:00:00</td>\n",
              "      <td>2011-10-26 00:00:00</td>\n",
              "    </tr>\n",
              "    <tr>\n",
              "      <th>90</th>\n",
              "      <td>Steelpin Inc.</td>\n",
              "      <td>B3333</td>\n",
              "      <td>8008</td>\n",
              "      <td>Machined Valve</td>\n",
              "      <td>645</td>\n",
              "      <td>100</td>\n",
              "      <td>64500</td>\n",
              "      <td>30</td>\n",
              "      <td>2011-10-10 00:00:00</td>\n",
              "      <td>2011-10-21 00:00:00</td>\n",
              "    </tr>\n",
              "    <tr>\n",
              "      <th>91</th>\n",
              "      <td>Steelpin Inc.</td>\n",
              "      <td>C0456</td>\n",
              "      <td>5677</td>\n",
              "      <td>Side Panel</td>\n",
              "      <td>195</td>\n",
              "      <td>130</td>\n",
              "      <td>25350</td>\n",
              "      <td>30</td>\n",
              "      <td>2011-10-28 00:00:00</td>\n",
              "      <td>2011-11-07 00:00:00</td>\n",
              "    </tr>\n",
              "    <tr>\n",
              "      <th>92</th>\n",
              "      <td>Steelpin Inc.</td>\n",
              "      <td>C0467</td>\n",
              "      <td>8008</td>\n",
              "      <td>Machined Valve</td>\n",
              "      <td>645</td>\n",
              "      <td>120</td>\n",
              "      <td>77400</td>\n",
              "      <td>30</td>\n",
              "      <td>2011-10-28 00:00:00</td>\n",
              "      <td>2011-11-04 00:00:00</td>\n",
              "    </tr>\n",
              "    <tr>\n",
              "      <th>93</th>\n",
              "      <td>Steelpin Inc.</td>\n",
              "      <td>C0589</td>\n",
              "      <td>5319</td>\n",
              "      <td>Shielded Cable/ft.</td>\n",
              "      <td>1.1</td>\n",
              "      <td>18100</td>\n",
              "      <td>19910</td>\n",
              "      <td>30</td>\n",
              "      <td>2011-08-25 00:00:00</td>\n",
              "      <td>2011-09-05 00:00:00</td>\n",
              "    </tr>\n",
              "  </tbody>\n",
              "</table>\n",
              "<p>94 rows × 10 columns</p>\n",
              "</div>\n",
              "      <button class=\"colab-df-convert\" onclick=\"convertToInteractive('df-00a1c8c1-6d25-48ce-9279-3cf032d05735')\"\n",
              "              title=\"Convert this dataframe to an interactive table.\"\n",
              "              style=\"display:none;\">\n",
              "        \n",
              "  <svg xmlns=\"http://www.w3.org/2000/svg\" height=\"24px\"viewBox=\"0 0 24 24\"\n",
              "       width=\"24px\">\n",
              "    <path d=\"M0 0h24v24H0V0z\" fill=\"none\"/>\n",
              "    <path d=\"M18.56 5.44l.94 2.06.94-2.06 2.06-.94-2.06-.94-.94-2.06-.94 2.06-2.06.94zm-11 1L8.5 8.5l.94-2.06 2.06-.94-2.06-.94L8.5 2.5l-.94 2.06-2.06.94zm10 10l.94 2.06.94-2.06 2.06-.94-2.06-.94-.94-2.06-.94 2.06-2.06.94z\"/><path d=\"M17.41 7.96l-1.37-1.37c-.4-.4-.92-.59-1.43-.59-.52 0-1.04.2-1.43.59L10.3 9.45l-7.72 7.72c-.78.78-.78 2.05 0 2.83L4 21.41c.39.39.9.59 1.41.59.51 0 1.02-.2 1.41-.59l7.78-7.78 2.81-2.81c.8-.78.8-2.07 0-2.86zM5.41 20L4 18.59l7.72-7.72 1.47 1.35L5.41 20z\"/>\n",
              "  </svg>\n",
              "      </button>\n",
              "      \n",
              "  <style>\n",
              "    .colab-df-container {\n",
              "      display:flex;\n",
              "      flex-wrap:wrap;\n",
              "      gap: 12px;\n",
              "    }\n",
              "\n",
              "    .colab-df-convert {\n",
              "      background-color: #E8F0FE;\n",
              "      border: none;\n",
              "      border-radius: 50%;\n",
              "      cursor: pointer;\n",
              "      display: none;\n",
              "      fill: #1967D2;\n",
              "      height: 32px;\n",
              "      padding: 0 0 0 0;\n",
              "      width: 32px;\n",
              "    }\n",
              "\n",
              "    .colab-df-convert:hover {\n",
              "      background-color: #E2EBFA;\n",
              "      box-shadow: 0px 1px 2px rgba(60, 64, 67, 0.3), 0px 1px 3px 1px rgba(60, 64, 67, 0.15);\n",
              "      fill: #174EA6;\n",
              "    }\n",
              "\n",
              "    [theme=dark] .colab-df-convert {\n",
              "      background-color: #3B4455;\n",
              "      fill: #D2E3FC;\n",
              "    }\n",
              "\n",
              "    [theme=dark] .colab-df-convert:hover {\n",
              "      background-color: #434B5C;\n",
              "      box-shadow: 0px 1px 3px 1px rgba(0, 0, 0, 0.15);\n",
              "      filter: drop-shadow(0px 1px 2px rgba(0, 0, 0, 0.3));\n",
              "      fill: #FFFFFF;\n",
              "    }\n",
              "  </style>\n",
              "\n",
              "      <script>\n",
              "        const buttonEl =\n",
              "          document.querySelector('#df-00a1c8c1-6d25-48ce-9279-3cf032d05735 button.colab-df-convert');\n",
              "        buttonEl.style.display =\n",
              "          google.colab.kernel.accessAllowed ? 'block' : 'none';\n",
              "\n",
              "        async function convertToInteractive(key) {\n",
              "          const element = document.querySelector('#df-00a1c8c1-6d25-48ce-9279-3cf032d05735');\n",
              "          const dataTable =\n",
              "            await google.colab.kernel.invokeFunction('convertToInteractive',\n",
              "                                                     [key], {});\n",
              "          if (!dataTable) return;\n",
              "\n",
              "          const docLinkHtml = 'Like what you see? Visit the ' +\n",
              "            '<a target=\"_blank\" href=https://colab.research.google.com/notebooks/data_table.ipynb>data table notebook</a>'\n",
              "            + ' to learn more about interactive tables.';\n",
              "          element.innerHTML = '';\n",
              "          dataTable['output_type'] = 'display_data';\n",
              "          await google.colab.output.renderOutput(dataTable, element);\n",
              "          const docLink = document.createElement('div');\n",
              "          docLink.innerHTML = docLinkHtml;\n",
              "          element.appendChild(docLink);\n",
              "        }\n",
              "      </script>\n",
              "    </div>\n",
              "  </div>\n",
              "  "
            ],
            "text/plain": [
              "1       Supplier  Order No.  ...           Order Date         Arrival Date\n",
              "0   Alum Sheeting     A0223  ...  2011-10-15 00:00:00  2011-10-20 00:00:00\n",
              "1   Alum Sheeting     A0433  ...  2011-10-20 00:00:00  2011-10-27 00:00:00\n",
              "2   Alum Sheeting     A0443  ...  2011-08-08 00:00:00  2011-08-14 00:00:00\n",
              "3   Alum Sheeting     A0446  ...  2011-09-01 00:00:00  2011-09-10 00:00:00\n",
              "4   Alum Sheeting     B0247  ...  2011-09-05 00:00:00  2011-09-12 00:00:00\n",
              "..            ...       ...  ...                  ...                  ...\n",
              "89  Steelpin Inc.     B3222  ...  2011-10-15 00:00:00  2011-10-26 00:00:00\n",
              "90  Steelpin Inc.     B3333  ...  2011-10-10 00:00:00  2011-10-21 00:00:00\n",
              "91  Steelpin Inc.     C0456  ...  2011-10-28 00:00:00  2011-11-07 00:00:00\n",
              "92  Steelpin Inc.     C0467  ...  2011-10-28 00:00:00  2011-11-04 00:00:00\n",
              "93  Steelpin Inc.     C0589  ...  2011-08-25 00:00:00  2011-09-05 00:00:00\n",
              "\n",
              "[94 rows x 10 columns]"
            ]
          },
          "metadata": {},
          "execution_count": 7
        }
      ]
    },
    {
      "cell_type": "code",
      "source": [
        "df_po.info()"
      ],
      "metadata": {
        "colab": {
          "base_uri": "https://localhost:8080/"
        },
        "id": "a11leY7SAlFB",
        "outputId": "8eaae6aa-0736-407a-dd2b-de06baabed25"
      },
      "execution_count": null,
      "outputs": [
        {
          "output_type": "stream",
          "name": "stdout",
          "text": [
            "<class 'pandas.core.frame.DataFrame'>\n",
            "RangeIndex: 94 entries, 0 to 93\n",
            "Data columns (total 10 columns):\n",
            " #   Column              Non-Null Count  Dtype \n",
            "---  ------              --------------  ----- \n",
            " 0   Supplier            94 non-null     object\n",
            " 1   Order No.           94 non-null     object\n",
            " 2   Item No.            94 non-null     object\n",
            " 3   Item Description    94 non-null     object\n",
            " 4   Item Cost           94 non-null     object\n",
            " 5   Quantity            94 non-null     object\n",
            " 6   Cost per order      94 non-null     object\n",
            " 7   A/P Terms (Months)  94 non-null     object\n",
            " 8   Order Date          94 non-null     object\n",
            " 9   Arrival Date        94 non-null     object\n",
            "dtypes: object(10)\n",
            "memory usage: 7.5+ KB\n"
          ]
        }
      ]
    },
    {
      "cell_type": "code",
      "source": [
        "df_po['Item No.'].astype(int)\n",
        "df_po['Item Cost'].astype(int)\n",
        "df_po['Quantity'].astype(int)\n",
        "df_po['Cost per order'].astype(int)\n",
        "df_po['A/P Terms (Months)'].astype(int)"
      ],
      "metadata": {
        "id": "BYUTsow2BOCa",
        "colab": {
          "base_uri": "https://localhost:8080/"
        },
        "outputId": "6da558fe-f4c8-47f5-bdd0-eabfccdbcf87"
      },
      "execution_count": 22,
      "outputs": [
        {
          "output_type": "execute_result",
          "data": {
            "text/plain": [
              "0     30\n",
              "1     30\n",
              "2     30\n",
              "3     30\n",
              "4     30\n",
              "      ..\n",
              "89    30\n",
              "90    30\n",
              "91    30\n",
              "92    30\n",
              "93    30\n",
              "Name: A/P Terms (Months), Length: 94, dtype: int64"
            ]
          },
          "metadata": {},
          "execution_count": 22
        }
      ]
    },
    {
      "cell_type": "code",
      "source": [
        "item_no = df_po['Item No.']\n",
        "item_cost = df_po['Item Cost']\n",
        "quantity = df_po['Quantity']\n",
        "cost_per_ord = df_po['Cost per order']\n",
        "ap_term = df_po['A/P Terms (Months)']"
      ],
      "metadata": {
        "id": "L-qqEBUvOk69"
      },
      "execution_count": 23,
      "outputs": []
    },
    {
      "cell_type": "code",
      "source": [
        "# visualize boxplot\n",
        "columns = [item_no, item_cost, quantity, cost_per_ord, ap_term]\n",
        "fig, ax = plt.subplots()\n",
        "ax.boxplot(columns)\n",
        "plt.xticks([1, 2, 3, 4, 5], [\"Item No\", \"Item Cost\", \"Quantity\", \"Cost Per Order\", \"A/P Terms\"])\n",
        "plt.show()"
      ],
      "metadata": {
        "colab": {
          "base_uri": "https://localhost:8080/",
          "height": 265
        },
        "id": "3nPs422H_ZwR",
        "outputId": "dc1b208a-0284-4a86-f187-ddcb065fb8bc"
      },
      "execution_count": null,
      "outputs": [
        {
          "output_type": "display_data",
          "data": {
            "image/png": "[encoded data removed]",
            "text/plain": [
              "<Figure size 432x288 with 1 Axes>"
            ]
          },
          "metadata": {
            "needs_background": "light"
          }
        }
      ]
    },
    {
      "cell_type": "code",
      "source": [
        "# visualize histogram\n",
        "fig, ax = plt.subplots(2, 3, figsize=(20, 8))\n",
        "ax[0][0].hist(item_no)\n",
        "ax[0][0].set_title(\"Item No\")\n",
        "ax[0][1].hist(item_cost)\n",
        "ax[0][1].set_title(\"Item Cost\")\n",
        "ax[1][0].hist(quantity)\n",
        "ax[1][0].set_title(\"Quantity\")\n",
        "ax[1][1].hist(cost_per_ord)\n",
        "ax[1][1].set_title(\"Cost per order\")\n",
        "ax[0][2].hist(ap_term)\n",
        "ax[0][2].set_title(\"A/P Terms (Months)\")\n",
        "ax[1][2].set_visible(False)\n",
        "plt.show()"
      ],
      "metadata": {
        "colab": {
          "base_uri": "https://localhost:8080/",
          "height": 499
        },
        "id": "-NOSNw58CaMq",
        "outputId": "b8dd264b-6a8d-44a9-de68-68eaf3ce79db"
      },
      "execution_count": null,
      "outputs": [
        {
          "output_type": "display_data",
          "data": {
            "image/png": "[encoded data removed]",
            "text/plain": [
              "<Figure size 1440x576 with 6 Axes>"
            ]
          },
          "metadata": {
            "needs_background": "light"
          }
        }
      ]
    },
    {
      "cell_type": "markdown",
      "source": [
        "## Count\n",
        "Sử dụng để đếm số lượng điểm dữ liệu hiện có trong bộ dữ liệu"
      ],
      "metadata": {
        "id": "3aoCm_Sd845B"
      }
    },
    {
      "cell_type": "code",
      "source": [
        "print('len item no = {0}'.format(len(item_no)))\n",
        "print('len item cost = {0}'.format(len(item_cost)))\n",
        "print('len quantity = {0}'.format(len(quantity)))\n",
        "print('len cost per ord = {0}'.format(len(cost_per_ord)))\n",
        "print('len ap term = {0}'.format(len(ap_term)))"
      ],
      "metadata": {
        "colab": {
          "base_uri": "https://localhost:8080/"
        },
        "outputId": "a0ead2f1-1211-4af4-9416-e1081ff4f292",
        "id": "mFJLt57m845C"
      },
      "execution_count": null,
      "outputs": [
        {
          "output_type": "stream",
          "name": "stdout",
          "text": [
            "len item no = 94\n",
            "len item cost = 94\n",
            "len quantity = 94\n",
            "len cost per ord = 94\n",
            "len ap term = 94\n"
          ]
        }
      ]
    },
    {
      "cell_type": "markdown",
      "source": [
        "## Min\n",
        "Cho ta biết được điểm dữ liệu mang giá trị nhỏ nhất trong toàn bộ dữ liệu"
      ],
      "metadata": {
        "id": "XnBCoQUI845D"
      }
    },
    {
      "cell_type": "code",
      "source": [
        "print('min item no = {0}'.format(min(item_no)))\n",
        "print('min item cost = {0}'.format(min(item_cost)))\n",
        "print('min quantity = {0}'.format(min(quantity)))\n",
        "print('min cost per ord = {0}'.format(min(cost_per_ord)))\n",
        "print('min ap term = {0}'.format(min(ap_term)))"
      ],
      "metadata": {
        "colab": {
          "base_uri": "https://localhost:8080/"
        },
        "outputId": "aca0fe8d-61cc-4a5c-e688-c8fb43011c95",
        "id": "q0k4tQiX845D"
      },
      "execution_count": null,
      "outputs": [
        {
          "output_type": "stream",
          "name": "stdout",
          "text": [
            "min item no = 1122\n",
            "min item cost = 0.55\n",
            "min quantity = 90\n",
            "min cost per ord = 68.75\n",
            "min ap term = 15\n"
          ]
        }
      ]
    },
    {
      "cell_type": "markdown",
      "source": [
        "## Max\n",
        "Cho ta biết được điểm dữ liệu mang giá trị lớn nhất trong toàn bộ dữ liệu"
      ],
      "metadata": {
        "id": "OXrypS2g845E"
      }
    },
    {
      "cell_type": "code",
      "source": [
        "print('max item no = {0}'.format(max(item_no)))\n",
        "print('max item cost = {0}'.format(max(item_cost)))\n",
        "print('max quantity = {0}'.format(max(quantity)))\n",
        "print('max cost per ord = {0}'.format(max(cost_per_ord)))\n",
        "print('max ap term = {0}'.format(max(ap_term)))"
      ],
      "metadata": {
        "colab": {
          "base_uri": "https://localhost:8080/"
        },
        "outputId": "f809c844-bf16-4d58-fe99-46f53cae26e2",
        "id": "639TAfUH845E"
      },
      "execution_count": null,
      "outputs": [
        {
          "output_type": "stream",
          "name": "stdout",
          "text": [
            "max item no = 9977\n",
            "max item cost = 655.5\n",
            "max quantity = 25000\n",
            "max cost per ord = 127500\n",
            "max ap term = 45\n"
          ]
        }
      ]
    },
    {
      "cell_type": "markdown",
      "source": [
        "## Mean\n",
        "Cho ta biết được giá trị trung bình của một tập hợp số"
      ],
      "metadata": {
        "id": "WZJHF91t845E"
      }
    },
    {
      "cell_type": "code",
      "source": [
        "def mean_func(li_nums):\n",
        "   return sum(li_nums) / len(li_nums)"
      ],
      "metadata": {
        "id": "N1gzVXsV845E"
      },
      "execution_count": null,
      "outputs": []
    },
    {
      "cell_type": "code",
      "source": [
        "print('mean item no = {0}'.format(mean_func(item_no)))\n",
        "print('mean item cost = {0}'.format(mean_func(item_cost)))\n",
        "print('mean quantity = {0}'.format(mean_func(quantity)))\n",
        "print('mean cost per ord = {0}'.format(mean_func(cost_per_ord)))\n",
        "print('mean ap term = {0}'.format(mean_func(ap_term)))"
      ],
      "metadata": {
        "colab": {
          "base_uri": "https://localhost:8080/"
        },
        "outputId": "7fe882b0-5166-4e6c-88ba-620042fc0939",
        "id": "pcMnf3M_845F"
      },
      "execution_count": null,
      "outputs": [
        {
          "output_type": "stream",
          "name": "stdout",
          "text": [
            "mean item no = 5616.553191489362\n",
            "mean item cost = 62.64095744680854\n",
            "mean quantity = 5857.404255319149\n",
            "mean cost per ord = 26295.31914893617\n",
            "mean ap term = 30.638297872340427\n"
          ]
        }
      ]
    },
    {
      "cell_type": "markdown",
      "source": [
        "## Median\n",
        "Trung vị là số nằm giữa một tập dữ liệu số đã được sắp xếp, có cùng số lượng điểm dữ liệu bên dưới và bên trên. Nó được sử dụng thay cho giá trị trung bình khi có các điểm ngoại lai trong bộ dữ liệu"
      ],
      "metadata": {
        "id": "DoUPybwj845F"
      }
    },
    {
      "cell_type": "code",
      "source": [
        "def median_func(li_nums):\n",
        "   len_nums = len(li_nums)\n",
        "   li_sorted = sorted(li_nums)\n",
        "   mid_point = len_nums // 2\n",
        "   if len_nums % 2 == 0:\n",
        "      num_l = li_sorted[mid_point - 1]\n",
        "      num_r = li_sorted[mid_point]\n",
        "      return (num_l + num_r) / 2\n",
        "   return li_sorted[mid_point]"
      ],
      "metadata": {
        "id": "PIhfCH7h845F"
      },
      "execution_count": null,
      "outputs": []
    },
    {
      "cell_type": "code",
      "source": [
        "print('median item no = {0}'.format(median_func(item_no)))\n",
        "print('median item cost = {0}'.format(median_func(item_cost)))\n",
        "print('median quantity = {0}'.format(median_func(quantity)))\n",
        "print('median cost per ord = {0}'.format(median_func(cost_per_ord)))\n",
        "print('median ap term = {0}'.format(median_func(ap_term)))"
      ],
      "metadata": {
        "colab": {
          "base_uri": "https://localhost:8080/"
        },
        "outputId": "f70fd1a3-2353-42b7-eead-4213f7bfa728",
        "id": "eV4hST5J845F"
      },
      "execution_count": null,
      "outputs": [
        {
          "output_type": "stream",
          "name": "stdout",
          "text": [
            "median item no = 5462.0\n",
            "median item cost = 3.7\n",
            "median quantity = 1915.0\n",
            "median cost per ord = 15656.25\n",
            "median ap term = 30.0\n"
          ]
        }
      ]
    },
    {
      "cell_type": "markdown",
      "source": [
        "## Mode\n",
        "Là điểm dữ liệu có tần suất xuất hiện nhiều nhất trong tập dữ liệu"
      ],
      "metadata": {
        "id": "TixCw2A0845F"
      }
    },
    {
      "cell_type": "code",
      "source": [
        "def mode_func(li_nums):\n",
        "   max_appearance = 0\n",
        "   h_map = {}\n",
        "   li_res = set()\n",
        "   for num in li_nums:\n",
        "      if num not in h_map:\n",
        "        h_map[num] = 1\n",
        "      else:\n",
        "        h_map[num] += 1\n",
        "      max_appearance = max(max_appearance, h_map[num])\n",
        "\n",
        "   for key, value in h_map.items():\n",
        "      if value == max_appearance:\n",
        "        li_res.add(key)\n",
        "   if len(li_res) == len(li_nums) or len(li_res) >= 2:\n",
        "      return \"N/A\"\n",
        "   return li_res"
      ],
      "metadata": {
        "id": "YYD-JkGC845F"
      },
      "execution_count": 24,
      "outputs": []
    },
    {
      "cell_type": "code",
      "source": [
        "print('mode item no = {0}'.format(mode_func(item_no)))\n",
        "print('mode item cost = {0}'.format(mode_func(item_cost)))\n",
        "print('mode quantity = {0}'.format(mode_func(quantity)))\n",
        "print('mode cost per ord = {0}'.format(mode_func(cost_per_ord)))\n",
        "print('mode ap term = {0}'.format(mode_func(ap_term)))"
      ],
      "metadata": {
        "colab": {
          "base_uri": "https://localhost:8080/"
        },
        "outputId": "90ae7367-1e16-498d-c20d-0bbe3c69d04d",
        "id": "AQfRuPx8845G"
      },
      "execution_count": 25,
      "outputs": [
        {
          "output_type": "stream",
          "name": "stdout",
          "text": [
            "mode item no = {1122}\n",
            "mode item cost = {4.25}\n",
            "mode quantity = {150}\n",
            "mode cost per ord = N/A\n",
            "mode ap term = {30}\n"
          ]
        }
      ]
    },
    {
      "cell_type": "markdown",
      "source": [
        "## Quantitle\n",
        "Là dạng tổng quát của Median, Quantitle là những điểm cắt (cut points) chia tập dữ liệu thành p phần có số phần tử bằng nhau"
      ],
      "metadata": {
        "id": "atzGiyLh845G"
      }
    },
    {
      "cell_type": "code",
      "source": [
        "def quantile_func(li_nums, p):\n",
        "   p_index = int(p * len(li_nums))\n",
        "   return sorted(li_nums)[p_index]"
      ],
      "metadata": {
        "id": "29N_fxDv845G"
      },
      "execution_count": null,
      "outputs": []
    },
    {
      "cell_type": "code",
      "source": [
        "print('quantile item no = {0}'.format(quantile_func(item_no, 0.2)))\n",
        "print('quantile item cost = {0}'.format(quantile_func(item_cost, 0.2)))\n",
        "print('quantile quantity = {0}'.format(quantile_func(quantity, 0.2)))\n",
        "print('quantile cost per ord = {0}'.format(quantile_func(cost_per_ord, 0.2)))\n",
        "print('quantile ap term = {0}'.format(quantile_func(ap_term, 0.2)))"
      ],
      "metadata": {
        "colab": {
          "base_uri": "https://localhost:8080/"
        },
        "outputId": "dd33d6be-71c6-4a58-8b58-929a32044847",
        "id": "bBlUlurv845G"
      },
      "execution_count": null,
      "outputs": [
        {
          "output_type": "stream",
          "name": "stdout",
          "text": [
            "quantile item no = 4111\n",
            "quantile item cost = 1.25\n",
            "quantile quantity = 150\n",
            "quantile cost per ord = 5365.5\n",
            "quantile ap term = 30\n"
          ]
        }
      ]
    },
    {
      "cell_type": "markdown",
      "source": [
        "## Range\n",
        "Khoảng biến thiên của tập dữ liệu"
      ],
      "metadata": {
        "id": "Lkq8CUHy845G"
      }
    },
    {
      "cell_type": "code",
      "source": [
        "print('range item no = {0}'.format(max(item_no) - min(item_no)))\n",
        "print('range item cost = {0}'.format(max(item_cost) - min(item_cost)))\n",
        "print('range quantity = {0}'.format(max(quantity) - min(quantity)))\n",
        "print('range cost per ord = {0}'.format(max(cost_per_ord) - min(cost_per_ord)))\n",
        "print('range ap term = {0}'.format(max(ap_term) - min(ap_term)))"
      ],
      "metadata": {
        "colab": {
          "base_uri": "https://localhost:8080/"
        },
        "outputId": "550ca0ca-a345-48e6-e464-a91c1dc519c5",
        "id": "-qlsJ41H845G"
      },
      "execution_count": null,
      "outputs": [
        {
          "output_type": "stream",
          "name": "stdout",
          "text": [
            "range item no = 8855\n",
            "range item cost = 654.95\n",
            "range quantity = 24910\n",
            "range cost per ord = 127431.25\n",
            "range ap term = 30\n"
          ]
        }
      ]
    },
    {
      "cell_type": "markdown",
      "source": [
        "## Variance\n",
        "Dùng để đo sự phân tán dữ liệu"
      ],
      "metadata": {
        "id": "7HJ8etyc845G"
      }
    },
    {
      "cell_type": "code",
      "source": [
        "def variance_func(li_nums):\n",
        "   n = len(li_nums)\n",
        "   mean = sum(li_nums) / n\n",
        "   deviations = [(value - mean)**2 for value in li_nums]\n",
        "\n",
        "   return sum(deviations) / (n - 1)"
      ],
      "metadata": {
        "id": "9wCZjyKS845G"
      },
      "execution_count": null,
      "outputs": []
    },
    {
      "cell_type": "code",
      "source": [
        "print('variance item no = {0}'.format(variance_func(item_no)))\n",
        "print('variance item cost = {0}'.format(variance_func(item_cost)))\n",
        "print('variance quantity = {0}'.format(variance_func(quantity)))\n",
        "print('variance cost per ord = {0}'.format(variance_func(cost_per_ord)))\n",
        "print('variance ap term = {0}'.format(variance_func(ap_term)))"
      ],
      "metadata": {
        "colab": {
          "base_uri": "https://localhost:8080/"
        },
        "outputId": "c027adf8-ee3d-4174-9e9d-7180abd11d35",
        "id": "X1nqYSQh845G"
      },
      "execution_count": null,
      "outputs": [
        {
          "output_type": "stream",
          "name": "stdout",
          "text": [
            "variance item no = 6727517.2605810985\n",
            "variance item cost = 20165.28075068634\n",
            "variance quantity = 52597359.490734406\n",
            "variance cost per ord = 890594573.8244683\n",
            "variance ap term = 46.3623884694579\n"
          ]
        }
      ]
    },
    {
      "cell_type": "markdown",
      "source": [
        "## Standard Deviation"
      ],
      "metadata": {
        "id": "9Os1uCfi845G"
      }
    },
    {
      "cell_type": "code",
      "source": [
        "def std_func(li_nums):\n",
        "   n = len(li_nums)\n",
        "   mean = sum(li_nums) / n\n",
        "   deviations = [(value - mean)**2 for value in li_nums]\n",
        "\n",
        "   variance = sum(deviations) / (n - 1)\n",
        "   return math.sqrt(variance)"
      ],
      "metadata": {
        "id": "WIpy5WUi845G"
      },
      "execution_count": null,
      "outputs": []
    },
    {
      "cell_type": "code",
      "source": [
        "print('standard deviation item no = {0}'.format(std_func(item_no)))\n",
        "print('standard deviation item cost = {0}'.format(std_func(item_cost)))\n",
        "print('standard deviation quantity = {0}'.format(std_func(quantity)))\n",
        "print('standard deviation cost per ord = {0}'.format(std_func(cost_per_ord)))\n",
        "print('standard deviation ap term = {0}'.format(std_func(ap_term)))"
      ],
      "metadata": {
        "colab": {
          "base_uri": "https://localhost:8080/"
        },
        "outputId": "1972f0e4-a9fe-43ac-cf8e-9566aff8d9fc",
        "id": "nYQU7gtX845G"
      },
      "execution_count": null,
      "outputs": [
        {
          "output_type": "stream",
          "name": "stdout",
          "text": [
            "standard deviation item no = 2593.7457972170478\n",
            "standard deviation item cost = 142.00450961390746\n",
            "standard deviation quantity = 7252.403704340679\n",
            "standard deviation cost per ord = 29842.83119652806\n",
            "standard deviation ap term = 6.808993205273294\n"
          ]
        }
      ]
    },
    {
      "cell_type": "markdown",
      "source": [
        "## Coefficient of Variation"
      ],
      "metadata": {
        "id": "uLMwxYUs845H"
      }
    },
    {
      "cell_type": "code",
      "source": [
        "def cv_func(li_nums):\n",
        "   n = len(li_nums)\n",
        "   mean = sum(li_nums) / n\n",
        "   deviations = [(value - mean)**2 for value in li_nums]\n",
        "\n",
        "   variance = sum(deviations) / (n - 1)\n",
        "   standard_variation = math.sqrt(variance)\n",
        "   return standard_variation / mean"
      ],
      "metadata": {
        "id": "JWTa6rO6845H"
      },
      "execution_count": null,
      "outputs": []
    },
    {
      "cell_type": "code",
      "source": [
        "print('coefficient of variation - item no = {0}'.format(cv_func(item_no)))\n",
        "print('coefficient of variation - item cost = {0}'.format(cv_func(item_cost)))\n",
        "print('coefficient of variation - quantity = {0}'.format(cv_func(quantity)))\n",
        "print('coefficient of variation - cost per ord = {0}'.format(cv_func(cost_per_ord)))\n",
        "print('coefficient of variation - ap term = {0}'.format(cv_func(ap_term)))"
      ],
      "metadata": {
        "colab": {
          "base_uri": "https://localhost:8080/"
        },
        "outputId": "782861eb-a014-4d4d-9aeb-305d83481dd4",
        "id": "2luWmC2j845H"
      },
      "execution_count": null,
      "outputs": [
        {
          "output_type": "stream",
          "name": "stdout",
          "text": [
            "coefficient of variation - item no = 0.46180383391495217\n",
            "coefficient of variation - item cost = 2.266959436794853\n",
            "coefficient of variation - quantity = 1.2381600088050473\n",
            "coefficient of variation - cost per ord = 1.1349104008777704\n",
            "coefficient of variation - ap term = 0.22223797267211445\n"
          ]
        }
      ]
    },
    {
      "cell_type": "markdown",
      "source": [
        "## Skewness"
      ],
      "metadata": {
        "id": "Lz1K_Qqs845H"
      }
    },
    {
      "cell_type": "code",
      "source": [
        "from scipy.stats import skew"
      ],
      "metadata": {
        "id": "Twdqr1sC845H"
      },
      "execution_count": null,
      "outputs": []
    },
    {
      "cell_type": "code",
      "source": [
        "print('skew item no = {0}'.format(skew(item_no)))\n",
        "print('skew item cost = {0}'.format(skew(item_cost)))\n",
        "print('skew quantity = {0}'.format(skew(quantity)))\n",
        "print('skew cost per ord = {0}'.format(skew(cost_per_ord)))\n",
        "print('skew ap term = {0}'.format(skew(ap_term)))"
      ],
      "metadata": {
        "colab": {
          "base_uri": "https://localhost:8080/"
        },
        "outputId": "1a2d982c-9508-43e3-d7b6-7ac8b0d151f2",
        "id": "MdHY1BwP845H"
      },
      "execution_count": null,
      "outputs": [
        {
          "output_type": "stream",
          "name": "stdout",
          "text": [
            "skew item no = -0.09264844866470075\n",
            "skew item cost = 3.1061815008862377\n",
            "skew quantity = 1.2354934231383419\n",
            "skew cost per ord = 1.6375953906008645\n",
            "skew ap term = 0.5896595576079535\n"
          ]
        }
      ]
    },
    {
      "cell_type": "markdown",
      "source": [
        "## Kurtosis"
      ],
      "metadata": {
        "id": "qDbd0qVf845H"
      }
    },
    {
      "cell_type": "code",
      "source": [
        "from scipy.stats import kurtosis"
      ],
      "metadata": {
        "id": "JXdC_qvy845H"
      },
      "execution_count": null,
      "outputs": []
    },
    {
      "cell_type": "code",
      "source": [
        "print('kurtosis item no = {0}'.format(kurtosis(item_no)))\n",
        "print('kurtosis item cost = {0}'.format(kurtosis(item_cost)))\n",
        "print('kurtosis quantity = {0}'.format(kurtosis(quantity)))\n",
        "print('kurtosis cost per ord = {0}'.format(kurtosis(cost_per_ord)))\n",
        "print('kurtosis ap term = {0}'.format(kurtosis(ap_term)))"
      ],
      "metadata": {
        "colab": {
          "base_uri": "https://localhost:8080/"
        },
        "outputId": "bc1abd6d-1d2a-4c87-9d43-32066a64de20",
        "id": "ZNXLp7Bn845H"
      },
      "execution_count": null,
      "outputs": [
        {
          "output_type": "stream",
          "name": "stdout",
          "text": [
            "kurtosis item no = -0.5755192834192204\n",
            "kurtosis item cost = 9.7041830649311\n",
            "kurtosis quantity = 0.1818551414860119\n",
            "kurtosis cost per ord = 1.9074955851197553\n",
            "kurtosis ap term = 1.3697841132748136\n"
          ]
        }
      ]
    },
    {
      "cell_type": "markdown",
      "source": [
        "# Computer Repair Times - Dataset"
      ],
      "metadata": {
        "id": "87dA6HiwFZT9"
      }
    },
    {
      "cell_type": "markdown",
      "source": [
        "## Data Preprocessing"
      ],
      "metadata": {
        "id": "AfsRRU6oFtMX"
      }
    },
    {
      "cell_type": "code",
      "source": [
        "df_crt = pd.read_excel('/content/drive/MyDrive/Datasets/Data Science Research/IS403/3. Computer Repair Times.xlsx')"
      ],
      "metadata": {
        "id": "VmH8we78FtMf"
      },
      "execution_count": 11,
      "outputs": []
    },
    {
      "cell_type": "code",
      "source": [
        "df_crt"
      ],
      "metadata": {
        "colab": {
          "base_uri": "https://localhost:8080/",
          "height": 423
        },
        "outputId": "8ce43fa1-74a9-45eb-94aa-42c2ad112611",
        "id": "nvENWKNsFtMf"
      },
      "execution_count": null,
      "outputs": [
        {
          "output_type": "execute_result",
          "data": {
            "text/html": [
              "\n",
              "  <div id=\"df-e4aa5f0c-4fc0-426c-9b76-4b1086bd6fb1\">\n",
              "    <div class=\"colab-df-container\">\n",
              "      <div>\n",
              "<style scoped>\n",
              "    .dataframe tbody tr th:only-of-type {\n",
              "        vertical-align: middle;\n",
              "    }\n",
              "\n",
              "    .dataframe tbody tr th {\n",
              "        vertical-align: top;\n",
              "    }\n",
              "\n",
              "    .dataframe thead th {\n",
              "        text-align: right;\n",
              "    }\n",
              "</style>\n",
              "<table border=\"1\" class=\"dataframe\">\n",
              "  <thead>\n",
              "    <tr style=\"text-align: right;\">\n",
              "      <th></th>\n",
              "      <th>Computer Repair Times</th>\n",
              "      <th>Unnamed: 1</th>\n",
              "    </tr>\n",
              "  </thead>\n",
              "  <tbody>\n",
              "    <tr>\n",
              "      <th>0</th>\n",
              "      <td>NaN</td>\n",
              "      <td>NaN</td>\n",
              "    </tr>\n",
              "    <tr>\n",
              "      <th>1</th>\n",
              "      <td>Sample</td>\n",
              "      <td>Repair Time (Days)</td>\n",
              "    </tr>\n",
              "    <tr>\n",
              "      <th>2</th>\n",
              "      <td>1</td>\n",
              "      <td>18</td>\n",
              "    </tr>\n",
              "    <tr>\n",
              "      <th>3</th>\n",
              "      <td>2</td>\n",
              "      <td>15</td>\n",
              "    </tr>\n",
              "    <tr>\n",
              "      <th>4</th>\n",
              "      <td>3</td>\n",
              "      <td>17</td>\n",
              "    </tr>\n",
              "    <tr>\n",
              "      <th>...</th>\n",
              "      <td>...</td>\n",
              "      <td>...</td>\n",
              "    </tr>\n",
              "    <tr>\n",
              "      <th>247</th>\n",
              "      <td>246</td>\n",
              "      <td>18</td>\n",
              "    </tr>\n",
              "    <tr>\n",
              "      <th>248</th>\n",
              "      <td>247</td>\n",
              "      <td>31</td>\n",
              "    </tr>\n",
              "    <tr>\n",
              "      <th>249</th>\n",
              "      <td>248</td>\n",
              "      <td>6</td>\n",
              "    </tr>\n",
              "    <tr>\n",
              "      <th>250</th>\n",
              "      <td>249</td>\n",
              "      <td>17</td>\n",
              "    </tr>\n",
              "    <tr>\n",
              "      <th>251</th>\n",
              "      <td>250</td>\n",
              "      <td>13</td>\n",
              "    </tr>\n",
              "  </tbody>\n",
              "</table>\n",
              "<p>252 rows × 2 columns</p>\n",
              "</div>\n",
              "      <button class=\"colab-df-convert\" onclick=\"convertToInteractive('df-e4aa5f0c-4fc0-426c-9b76-4b1086bd6fb1')\"\n",
              "              title=\"Convert this dataframe to an interactive table.\"\n",
              "              style=\"display:none;\">\n",
              "        \n",
              "  <svg xmlns=\"http://www.w3.org/2000/svg\" height=\"24px\"viewBox=\"0 0 24 24\"\n",
              "       width=\"24px\">\n",
              "    <path d=\"M0 0h24v24H0V0z\" fill=\"none\"/>\n",
              "    <path d=\"M18.56 5.44l.94 2.06.94-2.06 2.06-.94-2.06-.94-.94-2.06-.94 2.06-2.06.94zm-11 1L8.5 8.5l.94-2.06 2.06-.94-2.06-.94L8.5 2.5l-.94 2.06-2.06.94zm10 10l.94 2.06.94-2.06 2.06-.94-2.06-.94-.94-2.06-.94 2.06-2.06.94z\"/><path d=\"M17.41 7.96l-1.37-1.37c-.4-.4-.92-.59-1.43-.59-.52 0-1.04.2-1.43.59L10.3 9.45l-7.72 7.72c-.78.78-.78 2.05 0 2.83L4 21.41c.39.39.9.59 1.41.59.51 0 1.02-.2 1.41-.59l7.78-7.78 2.81-2.81c.8-.78.8-2.07 0-2.86zM5.41 20L4 18.59l7.72-7.72 1.47 1.35L5.41 20z\"/>\n",
              "  </svg>\n",
              "      </button>\n",
              "      \n",
              "  <style>\n",
              "    .colab-df-container {\n",
              "      display:flex;\n",
              "      flex-wrap:wrap;\n",
              "      gap: 12px;\n",
              "    }\n",
              "\n",
              "    .colab-df-convert {\n",
              "      background-color: #E8F0FE;\n",
              "      border: none;\n",
              "      border-radius: 50%;\n",
              "      cursor: pointer;\n",
              "      display: none;\n",
              "      fill: #1967D2;\n",
              "      height: 32px;\n",
              "      padding: 0 0 0 0;\n",
              "      width: 32px;\n",
              "    }\n",
              "\n",
              "    .colab-df-convert:hover {\n",
              "      background-color: #E2EBFA;\n",
              "      box-shadow: 0px 1px 2px rgba(60, 64, 67, 0.3), 0px 1px 3px 1px rgba(60, 64, 67, 0.15);\n",
              "      fill: #174EA6;\n",
              "    }\n",
              "\n",
              "    [theme=dark] .colab-df-convert {\n",
              "      background-color: #3B4455;\n",
              "      fill: #D2E3FC;\n",
              "    }\n",
              "\n",
              "    [theme=dark] .colab-df-convert:hover {\n",
              "      background-color: #434B5C;\n",
              "      box-shadow: 0px 1px 3px 1px rgba(0, 0, 0, 0.15);\n",
              "      filter: drop-shadow(0px 1px 2px rgba(0, 0, 0, 0.3));\n",
              "      fill: #FFFFFF;\n",
              "    }\n",
              "  </style>\n",
              "\n",
              "      <script>\n",
              "        const buttonEl =\n",
              "          document.querySelector('#df-e4aa5f0c-4fc0-426c-9b76-4b1086bd6fb1 button.colab-df-convert');\n",
              "        buttonEl.style.display =\n",
              "          google.colab.kernel.accessAllowed ? 'block' : 'none';\n",
              "\n",
              "        async function convertToInteractive(key) {\n",
              "          const element = document.querySelector('#df-e4aa5f0c-4fc0-426c-9b76-4b1086bd6fb1');\n",
              "          const dataTable =\n",
              "            await google.colab.kernel.invokeFunction('convertToInteractive',\n",
              "                                                     [key], {});\n",
              "          if (!dataTable) return;\n",
              "\n",
              "          const docLinkHtml = 'Like what you see? Visit the ' +\n",
              "            '<a target=\"_blank\" href=https://colab.research.google.com/notebooks/data_table.ipynb>data table notebook</a>'\n",
              "            + ' to learn more about interactive tables.';\n",
              "          element.innerHTML = '';\n",
              "          dataTable['output_type'] = 'display_data';\n",
              "          await google.colab.output.renderOutput(dataTable, element);\n",
              "          const docLink = document.createElement('div');\n",
              "          docLink.innerHTML = docLinkHtml;\n",
              "          element.appendChild(docLink);\n",
              "        }\n",
              "      </script>\n",
              "    </div>\n",
              "  </div>\n",
              "  "
            ],
            "text/plain": [
              "    Computer Repair Times          Unnamed: 1\n",
              "0                     NaN                 NaN\n",
              "1                  Sample  Repair Time (Days)\n",
              "2                       1                  18\n",
              "3                       2                  15\n",
              "4                       3                  17\n",
              "..                    ...                 ...\n",
              "247                   246                  18\n",
              "248                   247                  31\n",
              "249                   248                   6\n",
              "250                   249                  17\n",
              "251                   250                  13\n",
              "\n",
              "[252 rows x 2 columns]"
            ]
          },
          "metadata": {},
          "execution_count": 72
        }
      ]
    },
    {
      "cell_type": "code",
      "source": [
        "df_crt.columns = df_crt.iloc[1]\n",
        "df_crt = df_crt[2:]"
      ],
      "metadata": {
        "id": "NaO0IuiKN8Fq"
      },
      "execution_count": 12,
      "outputs": []
    },
    {
      "cell_type": "code",
      "source": [
        "df_crt.reset_index(inplace=True)\n",
        "df_crt = df_crt.iloc[:, 1:]"
      ],
      "metadata": {
        "id": "bnL5yzKGORYC"
      },
      "execution_count": 13,
      "outputs": []
    },
    {
      "cell_type": "code",
      "source": [
        "df_crt"
      ],
      "metadata": {
        "colab": {
          "base_uri": "https://localhost:8080/",
          "height": 424
        },
        "id": "JtP-W_RGO0R3",
        "outputId": "022df146-ed9a-49e8-e223-a799cf6c2d4b"
      },
      "execution_count": null,
      "outputs": [
        {
          "output_type": "execute_result",
          "data": {
            "text/html": [
              "\n",
              "  <div id=\"df-ac6baff9-09dd-4a84-8165-bb913668b7eb\">\n",
              "    <div class=\"colab-df-container\">\n",
              "      <div>\n",
              "<style scoped>\n",
              "    .dataframe tbody tr th:only-of-type {\n",
              "        vertical-align: middle;\n",
              "    }\n",
              "\n",
              "    .dataframe tbody tr th {\n",
              "        vertical-align: top;\n",
              "    }\n",
              "\n",
              "    .dataframe thead th {\n",
              "        text-align: right;\n",
              "    }\n",
              "</style>\n",
              "<table border=\"1\" class=\"dataframe\">\n",
              "  <thead>\n",
              "    <tr style=\"text-align: right;\">\n",
              "      <th>1</th>\n",
              "      <th>Sample</th>\n",
              "      <th>Repair Time (Days)</th>\n",
              "    </tr>\n",
              "  </thead>\n",
              "  <tbody>\n",
              "    <tr>\n",
              "      <th>0</th>\n",
              "      <td>1</td>\n",
              "      <td>18</td>\n",
              "    </tr>\n",
              "    <tr>\n",
              "      <th>1</th>\n",
              "      <td>2</td>\n",
              "      <td>15</td>\n",
              "    </tr>\n",
              "    <tr>\n",
              "      <th>2</th>\n",
              "      <td>3</td>\n",
              "      <td>17</td>\n",
              "    </tr>\n",
              "    <tr>\n",
              "      <th>3</th>\n",
              "      <td>4</td>\n",
              "      <td>9</td>\n",
              "    </tr>\n",
              "    <tr>\n",
              "      <th>4</th>\n",
              "      <td>5</td>\n",
              "      <td>37</td>\n",
              "    </tr>\n",
              "    <tr>\n",
              "      <th>...</th>\n",
              "      <td>...</td>\n",
              "      <td>...</td>\n",
              "    </tr>\n",
              "    <tr>\n",
              "      <th>245</th>\n",
              "      <td>246</td>\n",
              "      <td>18</td>\n",
              "    </tr>\n",
              "    <tr>\n",
              "      <th>246</th>\n",
              "      <td>247</td>\n",
              "      <td>31</td>\n",
              "    </tr>\n",
              "    <tr>\n",
              "      <th>247</th>\n",
              "      <td>248</td>\n",
              "      <td>6</td>\n",
              "    </tr>\n",
              "    <tr>\n",
              "      <th>248</th>\n",
              "      <td>249</td>\n",
              "      <td>17</td>\n",
              "    </tr>\n",
              "    <tr>\n",
              "      <th>249</th>\n",
              "      <td>250</td>\n",
              "      <td>13</td>\n",
              "    </tr>\n",
              "  </tbody>\n",
              "</table>\n",
              "<p>250 rows × 2 columns</p>\n",
              "</div>\n",
              "      <button class=\"colab-df-convert\" onclick=\"convertToInteractive('df-ac6baff9-09dd-4a84-8165-bb913668b7eb')\"\n",
              "              title=\"Convert this dataframe to an interactive table.\"\n",
              "              style=\"display:none;\">\n",
              "        \n",
              "  <svg xmlns=\"http://www.w3.org/2000/svg\" height=\"24px\"viewBox=\"0 0 24 24\"\n",
              "       width=\"24px\">\n",
              "    <path d=\"M0 0h24v24H0V0z\" fill=\"none\"/>\n",
              "    <path d=\"M18.56 5.44l.94 2.06.94-2.06 2.06-.94-2.06-.94-.94-2.06-.94 2.06-2.06.94zm-11 1L8.5 8.5l.94-2.06 2.06-.94-2.06-.94L8.5 2.5l-.94 2.06-2.06.94zm10 10l.94 2.06.94-2.06 2.06-.94-2.06-.94-.94-2.06-.94 2.06-2.06.94z\"/><path d=\"M17.41 7.96l-1.37-1.37c-.4-.4-.92-.59-1.43-.59-.52 0-1.04.2-1.43.59L10.3 9.45l-7.72 7.72c-.78.78-.78 2.05 0 2.83L4 21.41c.39.39.9.59 1.41.59.51 0 1.02-.2 1.41-.59l7.78-7.78 2.81-2.81c.8-.78.8-2.07 0-2.86zM5.41 20L4 18.59l7.72-7.72 1.47 1.35L5.41 20z\"/>\n",
              "  </svg>\n",
              "      </button>\n",
              "      \n",
              "  <style>\n",
              "    .colab-df-container {\n",
              "      display:flex;\n",
              "      flex-wrap:wrap;\n",
              "      gap: 12px;\n",
              "    }\n",
              "\n",
              "    .colab-df-convert {\n",
              "      background-color: #E8F0FE;\n",
              "      border: none;\n",
              "      border-radius: 50%;\n",
              "      cursor: pointer;\n",
              "      display: none;\n",
              "      fill: #1967D2;\n",
              "      height: 32px;\n",
              "      padding: 0 0 0 0;\n",
              "      width: 32px;\n",
              "    }\n",
              "\n",
              "    .colab-df-convert:hover {\n",
              "      background-color: #E2EBFA;\n",
              "      box-shadow: 0px 1px 2px rgba(60, 64, 67, 0.3), 0px 1px 3px 1px rgba(60, 64, 67, 0.15);\n",
              "      fill: #174EA6;\n",
              "    }\n",
              "\n",
              "    [theme=dark] .colab-df-convert {\n",
              "      background-color: #3B4455;\n",
              "      fill: #D2E3FC;\n",
              "    }\n",
              "\n",
              "    [theme=dark] .colab-df-convert:hover {\n",
              "      background-color: #434B5C;\n",
              "      box-shadow: 0px 1px 3px 1px rgba(0, 0, 0, 0.15);\n",
              "      filter: drop-shadow(0px 1px 2px rgba(0, 0, 0, 0.3));\n",
              "      fill: #FFFFFF;\n",
              "    }\n",
              "  </style>\n",
              "\n",
              "      <script>\n",
              "        const buttonEl =\n",
              "          document.querySelector('#df-ac6baff9-09dd-4a84-8165-bb913668b7eb button.colab-df-convert');\n",
              "        buttonEl.style.display =\n",
              "          google.colab.kernel.accessAllowed ? 'block' : 'none';\n",
              "\n",
              "        async function convertToInteractive(key) {\n",
              "          const element = document.querySelector('#df-ac6baff9-09dd-4a84-8165-bb913668b7eb');\n",
              "          const dataTable =\n",
              "            await google.colab.kernel.invokeFunction('convertToInteractive',\n",
              "                                                     [key], {});\n",
              "          if (!dataTable) return;\n",
              "\n",
              "          const docLinkHtml = 'Like what you see? Visit the ' +\n",
              "            '<a target=\"_blank\" href=https://colab.research.google.com/notebooks/data_table.ipynb>data table notebook</a>'\n",
              "            + ' to learn more about interactive tables.';\n",
              "          element.innerHTML = '';\n",
              "          dataTable['output_type'] = 'display_data';\n",
              "          await google.colab.output.renderOutput(dataTable, element);\n",
              "          const docLink = document.createElement('div');\n",
              "          docLink.innerHTML = docLinkHtml;\n",
              "          element.appendChild(docLink);\n",
              "        }\n",
              "      </script>\n",
              "    </div>\n",
              "  </div>\n",
              "  "
            ],
            "text/plain": [
              "1   Sample Repair Time (Days)\n",
              "0        1                 18\n",
              "1        2                 15\n",
              "2        3                 17\n",
              "3        4                  9\n",
              "4        5                 37\n",
              "..     ...                ...\n",
              "245    246                 18\n",
              "246    247                 31\n",
              "247    248                  6\n",
              "248    249                 17\n",
              "249    250                 13\n",
              "\n",
              "[250 rows x 2 columns]"
            ]
          },
          "metadata": {},
          "execution_count": 65
        }
      ]
    },
    {
      "cell_type": "code",
      "source": [
        "repair_times = df_crt['Repair Time (Days)']"
      ],
      "metadata": {
        "id": "Co2Hg1x8N-Q_"
      },
      "execution_count": 17,
      "outputs": []
    },
    {
      "cell_type": "code",
      "source": [
        "# visualize boxplot\n",
        "fig, ax = plt.subplots()\n",
        "ax.boxplot(repair_times)\n",
        "ax.set_title('Repair Time BoxPlot')\n",
        "plt.xticks([1], [\"Repair Time (Days)\"])\n",
        "plt.show()"
      ],
      "metadata": {
        "colab": {
          "base_uri": "https://localhost:8080/",
          "height": 281
        },
        "outputId": "e3c10ae0-6c5b-4ea9-d4ba-810fdd0cc008",
        "id": "7m2oA8R0PCp1"
      },
      "execution_count": 16,
      "outputs": [
        {
          "output_type": "display_data",
          "data": {
            "image/png": "[encoded data removed]",
            "text/plain": [
              "<Figure size 432x288 with 1 Axes>"
            ]
          },
          "metadata": {
            "needs_background": "light"
          }
        }
      ]
    },
    {
      "cell_type": "code",
      "source": [
        "# visualize histogram\n",
        "fig, ax = plt.subplots()\n",
        "ax.hist(repair_times)\n",
        "ax.set_title('Repair Time Histogram')\n",
        "plt.ylabel('Frequency')\n",
        "plt.xlabel('Repair Time (Days)');\n",
        "plt.show()"
      ],
      "metadata": {
        "colab": {
          "base_uri": "https://localhost:8080/",
          "height": 295
        },
        "outputId": "c02e7d3f-88aa-440d-a169-2ecc34f6c204",
        "id": "7JpdYGr8PCp7"
      },
      "execution_count": null,
      "outputs": [
        {
          "output_type": "display_data",
          "data": {
            "image/png": "[encoded data removed]",
            "text/plain": [
              "<Figure size 432x288 with 1 Axes>"
            ]
          },
          "metadata": {
            "needs_background": "light"
          }
        }
      ]
    },
    {
      "cell_type": "markdown",
      "source": [
        "## Count\n",
        "Sử dụng để đếm số lượng điểm dữ liệu hiện có trong bộ dữ liệu"
      ],
      "metadata": {
        "id": "-ZNVOLfbWqTV"
      }
    },
    {
      "cell_type": "code",
      "source": [
        "len(repair_times)"
      ],
      "metadata": {
        "colab": {
          "base_uri": "https://localhost:8080/"
        },
        "outputId": "160cf4d8-210f-4425-a5a3-8717b33a6d04",
        "id": "95l8MKmfWqTV"
      },
      "execution_count": null,
      "outputs": [
        {
          "output_type": "execute_result",
          "data": {
            "text/plain": [
              "250"
            ]
          },
          "metadata": {},
          "execution_count": 67
        }
      ]
    },
    {
      "cell_type": "markdown",
      "source": [
        "## Min\n",
        "Cho ta biết được điểm dữ liệu mang giá trị nhỏ nhất trong toàn bộ dữ liệu"
      ],
      "metadata": {
        "id": "o4SwibseWqTV"
      }
    },
    {
      "cell_type": "code",
      "source": [
        "print('min repair times = {0}'.format(min(repair_times)))"
      ],
      "metadata": {
        "colab": {
          "base_uri": "https://localhost:8080/"
        },
        "outputId": "960f0c61-0c4d-46fe-99cf-011461992502",
        "id": "qNJXTv_OWqTV"
      },
      "execution_count": null,
      "outputs": [
        {
          "output_type": "stream",
          "name": "stdout",
          "text": [
            "min repair times = 5\n"
          ]
        }
      ]
    },
    {
      "cell_type": "markdown",
      "source": [
        "## Max\n",
        "Cho ta biết được điểm dữ liệu mang giá trị lớn nhất trong toàn bộ dữ liệu"
      ],
      "metadata": {
        "id": "RQgj-WVhWqTV"
      }
    },
    {
      "cell_type": "code",
      "source": [
        "print('max repair times = {0}'.format(max(repair_times)))"
      ],
      "metadata": {
        "colab": {
          "base_uri": "https://localhost:8080/"
        },
        "outputId": "7b1501ac-91dc-4f00-abda-79cc1435449c",
        "id": "t07bOwOXWqTW"
      },
      "execution_count": null,
      "outputs": [
        {
          "output_type": "stream",
          "name": "stdout",
          "text": [
            "max repair times = 40\n"
          ]
        }
      ]
    },
    {
      "cell_type": "markdown",
      "source": [
        "## Mean\n",
        "Cho ta biết được giá trị trung bình của một tập hợp số"
      ],
      "metadata": {
        "id": "evIk4_LgWqTW"
      }
    },
    {
      "cell_type": "code",
      "source": [
        "def mean_func(li_nums):\n",
        "   return sum(li_nums) / len(li_nums)"
      ],
      "metadata": {
        "id": "NQFuDo3LWqTW"
      },
      "execution_count": null,
      "outputs": []
    },
    {
      "cell_type": "code",
      "source": [
        "print('mean repair times = {0}'.format(mean_func(repair_times)))"
      ],
      "metadata": {
        "colab": {
          "base_uri": "https://localhost:8080/"
        },
        "outputId": "3d707109-eb56-4b80-f22a-b0a6eabbef31",
        "id": "QIK65YcmWqTW"
      },
      "execution_count": null,
      "outputs": [
        {
          "output_type": "stream",
          "name": "stdout",
          "text": [
            "mean repair times = 14.912\n"
          ]
        }
      ]
    },
    {
      "cell_type": "markdown",
      "source": [
        "## Median\n",
        "Trung vị là số nằm giữa một tập dữ liệu số đã được sắp xếp, có cùng số lượng điểm dữ liệu bên dưới và bên trên. Nó được sử dụng thay cho giá trị trung bình khi có các điểm ngoại lai trong bộ dữ liệu"
      ],
      "metadata": {
        "id": "aZIa6850WqTW"
      }
    },
    {
      "cell_type": "code",
      "source": [
        "def median_func(li_nums):\n",
        "   len_nums = len(li_nums)\n",
        "   li_sorted = sorted(li_nums)\n",
        "   mid_point = len_nums // 2\n",
        "   if len_nums % 2 == 0:\n",
        "      num_l = li_sorted[mid_point - 1]\n",
        "      num_r = li_sorted[mid_point]\n",
        "      return (num_l + num_r) / 2\n",
        "   return li_sorted[mid_point]"
      ],
      "metadata": {
        "id": "4TSKEPP9WqTW"
      },
      "execution_count": null,
      "outputs": []
    },
    {
      "cell_type": "code",
      "source": [
        "print('median repair times = {0}'.format(median_func(repair_times)))"
      ],
      "metadata": {
        "colab": {
          "base_uri": "https://localhost:8080/"
        },
        "outputId": "c4c60543-95e8-4651-900f-665306f0c93b",
        "id": "oWPcEa8LWqTW"
      },
      "execution_count": null,
      "outputs": [
        {
          "output_type": "stream",
          "name": "stdout",
          "text": [
            "median repair times = 14.0\n"
          ]
        }
      ]
    },
    {
      "cell_type": "markdown",
      "source": [
        "## Mode\n",
        "Là điểm dữ liệu có tần suất xuất hiện nhiều nhất trong tập dữ liệu"
      ],
      "metadata": {
        "id": "vlMsBT1qWqTW"
      }
    },
    {
      "cell_type": "code",
      "source": [
        "def mode_func(li_nums):\n",
        "   max_appearance = 0\n",
        "   h_map = {}\n",
        "   li_res = set()\n",
        "   for num in li_nums:\n",
        "      if num not in h_map:\n",
        "        h_map[num] = 1\n",
        "      else:\n",
        "        h_map[num] += 1\n",
        "      max_appearance = max(max_appearance, h_map[num])\n",
        "\n",
        "   for key, value in h_map.items():\n",
        "      if value == max_appearance:\n",
        "        li_res.add(key)\n",
        "   if len(li_res) == len(li_nums) or len(li_res) >= 2:\n",
        "      return \"N/A\"\n",
        "   return li_res"
      ],
      "metadata": {
        "id": "UCEy68U-WqTW"
      },
      "execution_count": 14,
      "outputs": []
    },
    {
      "cell_type": "code",
      "source": [
        "print('mode repair times = {0}'.format(mode_func(repair_times)))"
      ],
      "metadata": {
        "colab": {
          "base_uri": "https://localhost:8080/"
        },
        "outputId": "a58ce2f9-1dad-495e-89f5-cf3b0dd4c9e5",
        "id": "6zG17PZQWqTW"
      },
      "execution_count": 18,
      "outputs": [
        {
          "output_type": "stream",
          "name": "stdout",
          "text": [
            "mode repair times = N/A\n"
          ]
        }
      ]
    },
    {
      "cell_type": "markdown",
      "source": [
        "## Quantitle\n",
        "Là dạng tổng quát của Median, Quantitle là những điểm cắt (cut points) chia tập dữ liệu thành p phần có số phần tử bằng nhau"
      ],
      "metadata": {
        "id": "my6KNBg0WqTW"
      }
    },
    {
      "cell_type": "code",
      "source": [
        "def quantile_func(li_nums, p):\n",
        "   p_index = int(p * len(li_nums))\n",
        "   return sorted(li_nums)[p_index]"
      ],
      "metadata": {
        "id": "HVBmI219WqTX"
      },
      "execution_count": null,
      "outputs": []
    },
    {
      "cell_type": "code",
      "source": [
        "print('quantile repair times = {0}'.format(quantile_func(repair_times, 0.2)))"
      ],
      "metadata": {
        "colab": {
          "base_uri": "https://localhost:8080/"
        },
        "outputId": "36b94eb9-b7e5-481f-e61f-d7186cbafde3",
        "id": "cEOadi-XWqTX"
      },
      "execution_count": null,
      "outputs": [
        {
          "output_type": "stream",
          "name": "stdout",
          "text": [
            "quantile repair times = 10\n"
          ]
        }
      ]
    },
    {
      "cell_type": "markdown",
      "source": [
        "## Range\n",
        "Khoảng biến thiên của tập dữ liệu"
      ],
      "metadata": {
        "id": "eaLvX1DVWqTX"
      }
    },
    {
      "cell_type": "code",
      "source": [
        "print('range repair times = {0}'.format(max(repair_times) - min(repair_times)))"
      ],
      "metadata": {
        "colab": {
          "base_uri": "https://localhost:8080/"
        },
        "outputId": "61f26a5e-27cd-42c4-9e92-e078d1cd7626",
        "id": "pCaUY-m3WqTX"
      },
      "execution_count": null,
      "outputs": [
        {
          "output_type": "stream",
          "name": "stdout",
          "text": [
            "range repair times = 35\n"
          ]
        }
      ]
    },
    {
      "cell_type": "markdown",
      "source": [
        "## Variance\n",
        "Dùng để đo sự phân tán dữ liệu"
      ],
      "metadata": {
        "id": "ZRhYcyIjWqTX"
      }
    },
    {
      "cell_type": "code",
      "source": [
        "def variance_func(li_nums):\n",
        "   n = len(li_nums)\n",
        "   mean = sum(li_nums) / n\n",
        "   deviations = [(value - mean)**2 for value in li_nums]\n",
        "\n",
        "   return sum(deviations) / (n - 1)"
      ],
      "metadata": {
        "id": "cmhumnx4WqTX"
      },
      "execution_count": null,
      "outputs": []
    },
    {
      "cell_type": "code",
      "source": [
        "print('variance repair times = {0}'.format(variance_func(repair_times)))"
      ],
      "metadata": {
        "colab": {
          "base_uri": "https://localhost:8080/"
        },
        "outputId": "584cb4c4-482b-42c0-ecee-e91965693851",
        "id": "w6XFk3ZxWqTX"
      },
      "execution_count": null,
      "outputs": [
        {
          "output_type": "stream",
          "name": "stdout",
          "text": [
            "variance repair times = 35.50226506024093\n"
          ]
        }
      ]
    },
    {
      "cell_type": "markdown",
      "source": [
        "## Standard Deviation"
      ],
      "metadata": {
        "id": "85J3fSMzWqTX"
      }
    },
    {
      "cell_type": "code",
      "source": [
        "def std_func(li_nums):\n",
        "   n = len(li_nums)\n",
        "   mean = sum(li_nums) / n\n",
        "   deviations = [(value - mean)**2 for value in li_nums]\n",
        "\n",
        "   variance = sum(deviations) / (n - 1)\n",
        "   return math.sqrt(variance)"
      ],
      "metadata": {
        "id": "edX9CB0gWqTX"
      },
      "execution_count": null,
      "outputs": []
    },
    {
      "cell_type": "code",
      "source": [
        "print('standard deviation repair times = {0}'.format(std_func(repair_times)))"
      ],
      "metadata": {
        "colab": {
          "base_uri": "https://localhost:8080/"
        },
        "outputId": "119ea77b-779d-4683-9fc7-b46a09ecd55e",
        "id": "mthGqBCtWqTX"
      },
      "execution_count": null,
      "outputs": [
        {
          "output_type": "stream",
          "name": "stdout",
          "text": [
            "standard deviation repair times = 5.958377720507565\n"
          ]
        }
      ]
    },
    {
      "cell_type": "markdown",
      "source": [
        "## Coefficient of Variation"
      ],
      "metadata": {
        "id": "rdO0W9kYWqTX"
      }
    },
    {
      "cell_type": "code",
      "source": [
        "def cv_func(li_nums):\n",
        "   n = len(li_nums)\n",
        "   mean = sum(li_nums) / n\n",
        "   deviations = [(value - mean)**2 for value in li_nums]\n",
        "\n",
        "   variance = sum(deviations) / (n - 1)\n",
        "   standard_variation = math.sqrt(variance)\n",
        "   return standard_variation / mean"
      ],
      "metadata": {
        "id": "IzO-xIGRWqTX"
      },
      "execution_count": null,
      "outputs": []
    },
    {
      "cell_type": "code",
      "source": [
        "print('coefficient of variation - repair times = {0}'.format(cv_func(repair_times)))"
      ],
      "metadata": {
        "colab": {
          "base_uri": "https://localhost:8080/"
        },
        "outputId": "e125dc33-86a9-4da3-9592-ee4118679bbf",
        "id": "zB5xwNm_WqTX"
      },
      "execution_count": null,
      "outputs": [
        {
          "output_type": "stream",
          "name": "stdout",
          "text": [
            "coefficient of variation - repair times = 0.3995693213859687\n"
          ]
        }
      ]
    },
    {
      "cell_type": "markdown",
      "source": [
        "## Skewness"
      ],
      "metadata": {
        "id": "ud4yDKgNWqTY"
      }
    },
    {
      "cell_type": "code",
      "source": [
        "from scipy.stats import skew"
      ],
      "metadata": {
        "id": "UseDt3iEWqTY"
      },
      "execution_count": null,
      "outputs": []
    },
    {
      "cell_type": "code",
      "source": [
        "print('skew repair times = {0}'.format(skew(repair_times)))"
      ],
      "metadata": {
        "colab": {
          "base_uri": "https://localhost:8080/"
        },
        "outputId": "0735b141-3de4-4228-fe00-88081e8a21c0",
        "id": "O-1qWGz9WqTY"
      },
      "execution_count": null,
      "outputs": [
        {
          "output_type": "stream",
          "name": "stdout",
          "text": [
            "skew repair times = 1.6850869214811048\n"
          ]
        }
      ]
    },
    {
      "cell_type": "markdown",
      "source": [
        "## Kurtosis"
      ],
      "metadata": {
        "id": "StdUidhDWqTY"
      }
    },
    {
      "cell_type": "code",
      "source": [
        "from scipy.stats import kurtosis"
      ],
      "metadata": {
        "id": "HowoonCaWqTY"
      },
      "execution_count": null,
      "outputs": []
    },
    {
      "cell_type": "code",
      "source": [
        "print('kurtosis repair times = {0}'.format(kurtosis(repair_times)))"
      ],
      "metadata": {
        "colab": {
          "base_uri": "https://localhost:8080/"
        },
        "outputId": "56d7a74c-bc6b-4805-a8bf-720dac213148",
        "id": "qNh9RbWUWqTY"
      },
      "execution_count": null,
      "outputs": [
        {
          "output_type": "stream",
          "name": "stdout",
          "text": [
            "kurtosis repair times = 3.973994110805113\n"
          ]
        }
      ]
    }
  ]
}